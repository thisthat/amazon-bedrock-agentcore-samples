{
 "cells": [
  {
   "cell_type": "markdown",
   "id": "3153aea5-ab75-4756-919f-57543dcfad6c",
   "metadata": {},
   "source": [
    "## Microsoft Entra ID Overview\n",
    "\n",
    "Microsoft Entra ID (formerly Azure Active Directory) is Microsoft's cloud-based identity and access management service. It serves as the central \n",
    "identity provider for Microsoft 365, Azure, and thousands of other SaaS applications.\n",
    "\n",
    "Key Features:\n",
    "* **Single Sign-On (SSO)** - Users authenticate once to access multiple applications\n",
    "* **Multi-Factor Authentication (MFA)** - Enhanced security through additional verification methods\n",
    "* **Conditional Access** - Policy-based access control based on user, device, location, and risk\n",
    "* **Application Integration** - Supports modern authentication protocols like OAuth 2.0, OpenID Connect, and SAML"
   ]
  },
  {
   "cell_type": "markdown",
   "id": "e25538bd-33d9-47e5-b266-3e19168fdd12",
   "metadata": {},
   "source": [
    "## Amazon Bedrock Gateway Overview\n",
    "\n",
    "Bedrock AgentCore Gateway provides customers a way to turn their existing APIs and Lambda functions into fully-managed MCP servers without needing to manage infra or hosting. Customers can bring OpenAPI spec or Smithy models for their existing APIs, or add Lambda functions that front their tools. Gateway will provide a uniform Model Context Protocol (MCP) interface across all these tools. Gateway employs a dual authentication model to ensure secure access control for both incoming requests and outbound connections to target resources. The framework consists of two key components: Inbound Auth, which validates and authorizes users attempting to access gateway targets, and Outbound Auth, which enables the gateway to securely connect to backend resources on behalf of authenticated users. Together, these authentication mechanisms create a secure bridge between users and their target resources, supporting both IAM credentials and OAuth-based authentication flows. Gateway supports MCP's Streamable HTTP transport connection.\n",
    "\n",
    "More details on Amazon Bedrock AgentCore Gateway can be found at:\n",
    "- https://github.com/awslabs/amazon-bedrock-agentcore-samples/tree/main/01-tutorials/02-AgentCore-gateway\n",
    "- https://docs.aws.amazon.com/bedrock-agentcore/latest/devguide/gateway.html"
   ]
  },
  {
   "cell_type": "markdown",
   "id": "40b9247b-e3a8-4ae2-938b-d0114183aa61",
   "metadata": {},
   "source": [
    "## Learning Objective\n",
    "Microsoft EntraID can be used as an identity provider on AgentCore Identity to authorize consuming application's access to protected Amazon AgentCore Gateway resources . In this notebook we will explore the use of EntraID for inbound authentication with Amazon Bedrock Gateway."
   ]
  },
  {
   "cell_type": "markdown",
   "id": "9d8c39de-acac-411b-b01f-8bd7baeb4372",
   "metadata": {},
   "source": [
    "## Learning Objective 1: Setup Entra ID for use with AgentCore Gateway"
   ]
  },
  {
   "cell_type": "markdown",
   "id": "92c40054-305f-4eef-ac3e-b835b679716a",
   "metadata": {},
   "source": [
    "### Step 1: Setup Entra ID Tenant\n",
    "An Entra ID tenant is a dedicated instance of Microsoft Entra ID that represents your organization. Think of it as your organization's isolated directory in Microsoft's cloud.\n",
    "\n",
    "Key Characteristics:\n",
    "* **Unique Identity** - Each tenant has a unique domain (e.g., yourcompany.onmicrosoft.com)\n",
    "* **Isolated Boundary** - Users, groups, and applications in one tenant are separate from others\n",
    "* **Administrative Control** - Tenant admins manage users, security policies, and application registrations\n",
    "* **Multi-Domain Support** - Can include custom domains alongside the default .onmicrosoft.com domain\n",
    "\n",
    "In Practice:\n",
    "When you register an application with Entra ID for OAuth integration, you're registering it within a specific tenant. Users from that tenant can then authenticate against your application using their organizational credentials.\n",
    "\n",
    "For AgentCore integration, you'll need:\n",
    "* **Tenant ID** - Unique identifier for the Entra ID instance\n",
    "* **Application Registration** - Your app registered within the tenant\n",
    "* **Appropriate Permissions** - Configured access rights for your application\n",
    "\n",
    "This tenant-based model ensures that authentication and authorization remain within your organization's security boundary.\n",
    "\n",
    "Steps to create a tenant can be found at https://learn.microsoft.com/en-us/entra/fundamentals/create-new-tenant\n",
    "\n",
    "Note:\n",
    "1. MS EntraID is not a AWS service. Please refer to Microsoft EntraID documentation for costs related to EntraID.\n",
    "2. Screen prints used in the following steps may change. We encourage you to refer to Microsoft Entra ID documentation for latest guidance on setting up EntraID application."
   ]
  },
  {
   "cell_type": "code",
   "execution_count": null,
   "id": "308fa87a-fb65-4ad8-91af-536fb4bfbed6",
   "metadata": {},
   "outputs": [],
   "source": [
    "import os\n",
    "os.environ[\"tenant_id\"] = \"bcXXXXXX-CCCC-VVVV-BBBB-NNNNNNdf1f19\" # Replace with Tenant ID from EntraID"
   ]
  },
  {
   "cell_type": "markdown",
   "id": "53041059-a82e-417b-9222-fc39b745a904",
   "metadata": {},
   "source": [
    "### Step 2: Define the API you want to use\n",
    "1. Go to portal.azure.com and search for \"Entra ID\" in the serch bar at the top of the screen\n",
    "<img src=\"images/entraid.jpg\" width=\"75%\">\n",
    "2. Go to manage --> App Registrations\n",
    "<img src=\"images/app.registration.png\" width=\"75%\">\n",
    "3. Click \"New Registration\" and fill in the details. Select the multi tenant option\n",
    "- Do not set any redirect URL.   \n",
    "<img src=\"images/setup.api.png\" width=\"75%\">\n",
    "4. Expose an API through Manage --> Expose an API\n",
    "<img src=\"images/api.expose.png\" width=\"75%\"/>\n",
    "5. Create app roles for the API. We are not adding scopes since this is a M2M setup.\n",
    "<img src=\"images/weather.app.role.png\" width=\"75%\"/>"
   ]
  },
  {
   "cell_type": "code",
   "execution_count": null,
   "id": "493510d7-ae62-443e-a6b0-b51317b014c9",
   "metadata": {},
   "outputs": [],
   "source": [
    "os.environ[\"app_id_uri\"] = \"api://3dXXXXXX-CCCC-VVVV-BBBB-NNNNNN885f25\" # This is the API URL you set up for \"weather_service\""
   ]
  },
  {
   "cell_type": "markdown",
   "id": "d96e8246-f2fc-49cc-8762-c44aad7c487d",
   "metadata": {},
   "source": [
    "### Step 3: Create a Entra Client application \n",
    "1. Go to portal.azure.com and search for \"Entra ID\" in the search bar at the top of the screen\n",
    "<img src=\"images/entraid.jpg\" width=\"75%\">\n",
    "2. Go to manage --> App Registrations\n",
    "<img src=\"images/app.registration.png\" width=\"75%\">\n",
    "3. Click \"New Registration\" and fill in the details. Select the multi tenant option\n",
    "- Do not set any redirect URL.\n",
    "<img src=\"images/client.register.png\" width=\"75%\"/>\n",
    "4. Create a client secret. Copy the client secret and client ID for use in AgentCore.\n",
    "<img src=\"images/client.secret.png\" width=\"75%\">\n",
    "5. Go to API permissions and request permissions for the API you created earlier.\n",
    "<img src=\"images/api.permissions.png\" width=\"75%\">\n",
    "<img src=\"images/api.permissions.png\" width=\"75%\">\n",
    "5. Grant admin consent to use the APIs. \n",
    "<img src=\"images/api.permissions.png\" width=\"75%\">"
   ]
  },
  {
   "cell_type": "markdown",
   "id": "0df318f5-6daa-42d0-badb-bb3f816c4c32",
   "metadata": {},
   "source": [
    "5. Set up environment variables using the info from EntraID "
   ]
  },
  {
   "cell_type": "code",
   "execution_count": null,
   "id": "53d93bef-5d5f-4d7d-8e6f-57c5fa5e7440",
   "metadata": {},
   "outputs": [],
   "source": [
    "import os\n",
    "os.environ[\"client_id\"] = \"08XXXXXX-CCCC-VVVV-BBBB-NNNNNNd86cd2\" # Replace with Client ID of the \"weather_service_client\"\n",
    "os.environ[\"client_secret\"] = \"muCCCCCVVVVVBBBBBNNNNN3dY6qdlL\" # Replace with Client secret of the \"weather_service_client\""
   ]
  },
  {
   "cell_type": "markdown",
   "id": "f4a1dd59-443b-4495-91aa-9fb48a1bc39a",
   "metadata": {},
   "source": [
    "## Learning Objectvie 2: Setup AgentCore Gatway and Lambda Target"
   ]
  },
  {
   "cell_type": "markdown",
   "id": "503d3068-5ded-4aae-bc6e-77b6a9191108",
   "metadata": {},
   "source": [
    "### Step 1: Create a Lambda Function to sue with Entra ID\n",
    "1. Create a python file that we will use as lambda function code. Note how the tool name being called us used retrieved from the `context` object and used in the lambda function."
   ]
  },
  {
   "cell_type": "code",
   "execution_count": null,
   "id": "f7f3b9b9-3337-4800-86f6-94d4cbbd94b4",
   "metadata": {},
   "outputs": [],
   "source": [
    "import boto3\n",
    "import zipfile\n",
    "import io\n",
    "from botocore.exceptions import ClientError\n",
    "from boto3.session import Session\n",
    "import time\n",
    "\n",
    "boto_session = Session()\n",
    "sts = boto3.client('sts')\n",
    "region = boto_session.region_name\n",
    "account_id = sts.get_caller_identity().get(\"Account\")"
   ]
  },
  {
   "cell_type": "code",
   "execution_count": null,
   "id": "16880ceb-76fd-472a-ae0f-51ba185c96d6",
   "metadata": {},
   "outputs": [],
   "source": [
    "%%writefile lambda_function.py\n",
    "def lambda_handler(event, context):\n",
    "    print(f\"Event: {event}\")\n",
    "    print(f\"Context: {context}\")\n",
    "    extended_tool_name = context.client_context.custom[\"bedrockAgentCoreToolName\"]\n",
    "    resource = extended_tool_name.split(\"___\")[1]\n",
    "\n",
    "    print(resource)\n",
    "    city = event.get(\"city\")\n",
    "    print(city)\n",
    "    if resource == \"weather_check\":\n",
    "        return f\"Weather in {city} is bright and sunny!\"\n",
    "    elif resource == \"directions\":\n",
    "        return f\"Take I5 south all the way to {city} downtown\""
   ]
  },
  {
   "cell_type": "markdown",
   "id": "45df3089-af5f-42f3-a68d-18a83fa64272",
   "metadata": {},
   "source": [
    "2. Create the lambda funtion"
   ]
  },
  {
   "cell_type": "code",
   "execution_count": null,
   "id": "ff3eb513-3ba3-486c-8842-bbe61efa1edc",
   "metadata": {},
   "outputs": [],
   "source": [
    "lambda_client = boto3.client('lambda', region_name=region)\n",
    "with zipfile.ZipFile('lambda_function.zip', 'w') as zip_file:\n",
    "    zip_file.write('lambda_function.py', 'lambda_function.py')\n",
    "\n",
    "with open('lambda_function.zip', 'rb') as zip_file:\n",
    "    zip_content = zip_file.read()"
   ]
  },
  {
   "cell_type": "code",
   "execution_count": null,
   "id": "011e6384-f399-48f6-815a-11e42e8c38d0",
   "metadata": {},
   "outputs": [],
   "source": [
    "iam_client = boto3.client('iam', region_name=region)\n",
    "\n",
    "trust_policy = \"\"\"{\n",
    "    \"Version\": \"2012-10-17\",\n",
    "    \"Statement\": [\n",
    "        {\n",
    "            \"Effect\": \"Allow\",\n",
    "            \"Principal\": {\n",
    "                \"Service\": \"lambda.amazonaws.com\"\n",
    "            },\n",
    "            \"Action\": \"sts:AssumeRole\"\n",
    "        }\n",
    "    ]\n",
    "}\n",
    "\"\"\"\n",
    "\n",
    "policy = \"\"\"{\n",
    "    \"Version\": \"2012-10-17\",\n",
    "    \"Statement\": [\n",
    "        {\n",
    "            \"Effect\": \"Allow\",\n",
    "            \"Action\": [\n",
    "                \"logs:CreateLogGroup\",\n",
    "                \"logs:CreateLogStream\",\n",
    "                \"logs:PutLogEvents\"\n",
    "            ],\n",
    "            \"Resource\": \"arn:aws:logs:*:*:*\"\n",
    "        }\n",
    "    ]\n",
    "}\n",
    "\"\"\"\n",
    "\n",
    "response = iam_client.create_role(\n",
    "    RoleName='lambda-role',\n",
    "    AssumeRolePolicyDocument=trust_policy\n",
    ")\n",
    "\n",
    "iam_client.put_role_policy(\n",
    "        PolicyDocument=policy,\n",
    "        PolicyName=\"lambda-policy\",\n",
    "        RoleName=\"lambda-role\"\n",
    "    )\n",
    "\n",
    "lambda_role_arn = response['Role']['Arn']\n",
    "\n",
    "# Wait for role to propagate\n",
    "time.sleep(10)\n",
    "\n",
    "response = lambda_client.create_function(\n",
    "    FunctionName='m2m-entra-lambda',\n",
    "    Runtime='python3.12',\n",
    "    Role=lambda_role_arn,\n",
    "    Handler='lambda_function.lambda_handler',\n",
    "    Code={'ZipFile': zip_content},\n",
    ")"
   ]
  },
  {
   "cell_type": "code",
   "execution_count": null,
   "id": "9724060d-8539-42e3-833f-9288034c2bc4",
   "metadata": {},
   "outputs": [],
   "source": [
    "lambda_arn = response[\"FunctionArn\"]"
   ]
  },
  {
   "cell_type": "code",
   "execution_count": null,
   "id": "9efeb61d-5f33-430d-9e69-b529e86a3f26",
   "metadata": {},
   "outputs": [],
   "source": [
    "lambda_arn"
   ]
  },
  {
   "cell_type": "markdown",
   "id": "437d13b7-796c-48c2-8a2d-135b40c85310",
   "metadata": {},
   "source": [
    "### Step 2: Create Amazon Bedrock AgentCore Gateway with inbound security"
   ]
  },
  {
   "cell_type": "code",
   "execution_count": null,
   "id": "a5214741-09ef-4058-a4b7-617d8b8e4afc",
   "metadata": {},
   "outputs": [],
   "source": [
    "iam_client = boto3.client('iam')\n",
    "\n",
    "trust_policy = \"\"\"{\n",
    "    \"Version\": \"2012-10-17\",\n",
    "    \"Statement\": [\n",
    "        {\n",
    "            \"Effect\": \"Allow\",\n",
    "            \"Principal\": {\n",
    "                \"Service\": \"bedrock-agentcore.amazonaws.com\"\n",
    "            },\n",
    "            \"Action\": \"sts:AssumeRole\"\n",
    "        }\n",
    "    ]\n",
    "}\n",
    "\"\"\"\n",
    "\n",
    "# Create role with trust policy\n",
    "response = iam_client.create_role(\n",
    "    RoleName='bedrock-agent-lambda-role',\n",
    "    AssumeRolePolicyDocument=trust_policy\n",
    ")\n",
    "\n",
    "permission = \"\"\"{\n",
    "    \"Version\": \"2012-10-17\",\n",
    "    \"Statement\": [\n",
    "        {\n",
    "            \"Action\": [\n",
    "                \"lambda:InvokeFunction\"\n",
    "            ],\n",
    "            \"Resource\": [\n",
    "                \"%s\"\n",
    "            ],\n",
    "            \"Effect\": \"Allow\",\n",
    "            \"Sid\": \"InvokeFunction\"\n",
    "        }\n",
    "    ]\n",
    "}\n",
    "\"\"\"% lambda_arn\n",
    "\n",
    "\n",
    "# Add Lambda invoke policy\n",
    "iam_client.put_role_policy(\n",
    "    RoleName='bedrock-agent-lambda-role',\n",
    "    PolicyName='lambda-invoke-policy',\n",
    "    PolicyDocument=permission\n",
    ")\n",
    "\n",
    "role_arn = response['Role']['Arn']\n",
    "print(f\"Role ARN: {role_arn}\")"
   ]
  },
  {
   "cell_type": "code",
   "execution_count": null,
   "id": "d269f127-c547-489b-aad8-5ee4220e4b8b",
   "metadata": {},
   "outputs": [],
   "source": [
    "gateway_client = boto3.client(\n",
    "    \"bedrock-agentcore-control\",\n",
    "    region_name=region,\n",
    ")\n",
    "\n",
    "gateway_name = \"m2m-entra-gateway\"\n",
    "auth_config = {\n",
    "    \"customJWTAuthorizer\": {\n",
    "        \"allowedAudience\": [\n",
    "            os.environ[\"app_id_uri\"]\n",
    "        ],\n",
    "        \"discoveryUrl\": f\"https://login.microsoftonline.com/{os.environ[\"tenant_id\"]}/.well-known/openid-configuration\"\n",
    "    }\n",
    "}\n",
    "\n",
    "create_response = gateway_client.create_gateway(\n",
    "    name=gateway_name,\n",
    "    roleArn= role_arn,\n",
    "    protocolType=\"MCP\",\n",
    "    authorizerType=\"CUSTOM_JWT\",\n",
    "    authorizerConfiguration=auth_config,\n",
    "    description=\"Customer Support AgentCore Gateway\",\n",
    ")"
   ]
  },
  {
   "cell_type": "code",
   "execution_count": null,
   "id": "f665e151-1e4e-4592-b560-5476cf71db10",
   "metadata": {},
   "outputs": [],
   "source": [
    "gateway_url = create_response[\"gatewayUrl\"]\n",
    "gateway_id = create_response[\"gatewayId\"]"
   ]
  },
  {
   "cell_type": "markdown",
   "id": "525bd32e-9498-47db-9f2a-22ebb40fba57",
   "metadata": {},
   "source": [
    "### Step 3: Add lambda target to the AgentCore Gateway we just created"
   ]
  },
  {
   "cell_type": "markdown",
   "id": "1cebd3c4-939c-45bf-aa7d-713b29ac5777",
   "metadata": {},
   "source": [
    "1. API Specification for the actual tools we are creating through the lambda function. "
   ]
  },
  {
   "cell_type": "code",
   "execution_count": null,
   "id": "ef37bd2a-8bbc-4d8f-880e-c88a59fa7bb9",
   "metadata": {},
   "outputs": [],
   "source": [
    "api_spec = [\n",
    "    {\n",
    "        \"name\": \"weather_check\",\n",
    "        \"description\": \"Check the weather for a given City\",\n",
    "        \"inputSchema\": {\n",
    "            \"type\": \"object\",\n",
    "            \"properties\": {\n",
    "                \"city\": {\n",
    "                    \"type\": \"string\",\n",
    "                    \"description\": \"The city you want to get weather for\"\n",
    "                }\n",
    "            },\n",
    "            \"required\": [\n",
    "                \"city\"\n",
    "            ]\n",
    "        }\n",
    "    },\n",
    "    {\n",
    "        \"name\": \"directions\",\n",
    "        \"description\": \"Search the web for directions to a city\",\n",
    "        \"inputSchema\": {\n",
    "            \"type\": \"object\",\n",
    "            \"properties\": {\n",
    "                \"city\": {\n",
    "                    \"type\": \"string\",\n",
    "                    \"description\": \"The city you want to get directions to\"\n",
    "                }\n",
    "            },\n",
    "            \"required\": [\n",
    "                \"city\"\n",
    "            ]\n",
    "        }\n",
    "    }\n",
    "]"
   ]
  },
  {
   "cell_type": "code",
   "execution_count": null,
   "id": "d5639fc1-f0e3-4199-b21c-9960d6e75bf7",
   "metadata": {},
   "outputs": [],
   "source": [
    "lambda_target_config = {\n",
    "    \"mcp\": {\n",
    "        \"lambda\": {\n",
    "            \"lambdaArn\": lambda_arn,\n",
    "            \"toolSchema\": {\"inlinePayload\": api_spec},\n",
    "        }\n",
    "    }\n",
    "}\n",
    "\n",
    "# Create gateway target\n",
    "credential_config = [{\"credentialProviderType\": \"GATEWAY_IAM_ROLE\"}]\n",
    "\n",
    "create_target_response = gateway_client.create_gateway_target(\n",
    "    gatewayIdentifier=gateway_id,\n",
    "    name=\"LambdaUsingSDK\",\n",
    "    description=\"Lambda Target using SDK\",\n",
    "    targetConfiguration=lambda_target_config,\n",
    "    credentialProviderConfigurations=credential_config,\n",
    ")"
   ]
  },
  {
   "cell_type": "markdown",
   "id": "22307a5b-222a-406c-b2a5-cbea91308440",
   "metadata": {},
   "source": [
    "## Learning Objective 3: Use the tools made available through AgentCore Gateway in your agent"
   ]
  },
  {
   "cell_type": "markdown",
   "id": "42d28cb8-2d09-4941-96d5-58dcf815ea19",
   "metadata": {},
   "source": [
    "### Step 1: Get a token and review the payload and header\n",
    "1. Get an access token and use it to access AgentCore Gateway. "
   ]
  },
  {
   "cell_type": "code",
   "execution_count": null,
   "id": "3339b82c-073b-4b52-8a08-2760bdeac1bd",
   "metadata": {},
   "outputs": [],
   "source": [
    "import requests\n",
    "import json\n",
    "\n",
    "TOKEN_URL = f\"https://login.microsoftonline.com/{os.environ[\"tenant_id\"]}/oauth2/v2.0/token\"\n",
    "SCOPE=f\"{os.environ[\"app_id_uri\"]}/.default\"\n",
    "\n",
    "def fetch_access_token(client_id, client_secret, token_url,scope):\n",
    "\n",
    "  data = {\n",
    "      \"grant_type\":\"client_credentials\",\n",
    "      \"client_id\":client_id,\n",
    "      \"client_secret\": client_secret,\n",
    "      \"scope\":scope\n",
    "  }\n",
    "    \n",
    "  response = requests.post(\n",
    "    token_url,\n",
    "    data=data,\n",
    "    headers={'Content-Type': 'application/x-www-form-urlencoded'}\n",
    "  )\n",
    "  #print(response.text)\n",
    "  return response.json()['access_token']\n",
    "\n",
    "access_token = fetch_access_token(os.environ[\"client_id\"], os.environ[\"client_secret\"], TOKEN_URL, SCOPE)"
   ]
  },
  {
   "cell_type": "markdown",
   "id": "82144702-fdd8-41e6-b644-4c5a3b653665",
   "metadata": {},
   "source": [
    "2. Decode it and see the contents. Make sure that \"aud\", \"appid\" and \"roles\" match to the one you have setup earlier.  "
   ]
  },
  {
   "cell_type": "code",
   "execution_count": null,
   "id": "813e08b2-7599-43c8-add1-fdb4dbd87534",
   "metadata": {
    "scrolled": true
   },
   "outputs": [],
   "source": [
    "import base64\n",
    "import json\n",
    "\n",
    "def decode_jwt_token(token):\n",
    "    # Split the JWT into parts\n",
    "    parts = token.split('.')\n",
    "    \n",
    "    # Decode header\n",
    "    header = json.loads(base64.b64decode(parts[0] + '==').decode('utf-8'))\n",
    "    \n",
    "    # Decode payload\n",
    "    payload = json.loads(base64.b64decode(parts[1] + '==').decode('utf-8'))\n",
    "    \n",
    "    return header, payload\n",
    "\n",
    "# Usage\n",
    "header, payload = decode_jwt_token(access_token)\n",
    "\n",
    "print(\"Header:\", json.dumps(header, indent=2))\n",
    "print(\"Payload:\", json.dumps(payload, indent=2))\n",
    "\n",
    "# Check specific claims\n",
    "print(f\"Audience: {payload.get('aud')}\")\n",
    "print(f\"Issuer: {payload.get('iss')}\")\n",
    "print(f\"Expires: {payload.get('exp')}\")\n",
    "print(f\"Scopes: {payload.get('scp')}\")\n",
    "print(f\"Roles: {payload.get('roles')}\")"
   ]
  },
  {
   "cell_type": "markdown",
   "id": "32674f2c-cf26-4cc7-8e5a-629b339f7072",
   "metadata": {},
   "source": [
    "### Step 2: Use the access token to get the list of available tools from AgentCore Gateway\n",
    "You should see a tool specification similar to the one below.   \n",
    "\n",
    "<img src=\"images/tools.spec.png\" width=\"50%\"/>"
   ]
  },
  {
   "cell_type": "code",
   "execution_count": null,
   "id": "b98e8dd6-5ca4-4c1e-84e6-2951c70fbeda",
   "metadata": {},
   "outputs": [],
   "source": [
    "def list_tools(gateway_url, access_token):\n",
    "  headers = {\n",
    "      \"Content-Type\": \"application/json\",\n",
    "      \"Authorization\": f\"Bearer {access_token}\"\n",
    "  }\n",
    "\n",
    "  payload = {\n",
    "      \"jsonrpc\": \"2.0\",\n",
    "      \"id\": \"list-tools-request\",\n",
    "      \"method\": \"tools/list\"\n",
    "  }\n",
    "\n",
    "  response = requests.post(gateway_url, headers=headers, json=payload)\n",
    "  return response.json()\n",
    "tools = list_tools(gateway_url, access_token)\n",
    "print(json.dumps(tools, indent=2))"
   ]
  },
  {
   "cell_type": "markdown",
   "id": "9c9f5a6f-ea0d-47e8-ba86-f52429a6ede2",
   "metadata": {},
   "source": [
    "### Step 3: Create an mcp client, get tool list and use it in a Strands agent."
   ]
  },
  {
   "cell_type": "code",
   "execution_count": null,
   "id": "b3aacac3-ae9b-4189-97fd-a9992ed43c99",
   "metadata": {},
   "outputs": [],
   "source": [
    "from mcp.client.streamable_http import streamablehttp_client\n",
    "from strands.tools.mcp import MCPClient\n",
    "\n",
    "# Set up MCP client\n",
    "mcp_client = MCPClient(\n",
    "    lambda: streamablehttp_client(\n",
    "        gateway_url,\n",
    "        headers={\"Authorization\": f\"Bearer {access_token}\"},\n",
    "    )\n",
    ")"
   ]
  },
  {
   "cell_type": "code",
   "execution_count": null,
   "id": "809f0800-7b8f-470a-ac0d-531f18cba097",
   "metadata": {},
   "outputs": [],
   "source": [
    "mcp_client.start()"
   ]
  },
  {
   "cell_type": "code",
   "execution_count": null,
   "id": "8ff1b439-109f-455b-b2b9-36b037553923",
   "metadata": {},
   "outputs": [],
   "source": [
    "mcp_client.list_tools_sync()"
   ]
  },
  {
   "cell_type": "code",
   "execution_count": null,
   "id": "feb68b99-daad-41f7-a320-92307655548d",
   "metadata": {},
   "outputs": [],
   "source": [
    "from strands import Agent\n",
    "agent = Agent(tools=mcp_client.list_tools_sync())"
   ]
  },
  {
   "cell_type": "markdown",
   "id": "68d80a7a-6ac5-4194-8470-2f0f364e1013",
   "metadata": {},
   "source": [
    "#### Note: Response from Lambda function defined earlier is static. As a result, the response from this agent will be very similar irrespective of the city you name in the prompt."
   ]
  },
  {
   "cell_type": "code",
   "execution_count": null,
   "id": "1e0c6071-5711-47f0-a650-eab2e68fe47c",
   "metadata": {},
   "outputs": [],
   "source": [
    "agent(\"What is the weather in San Diego?\")"
   ]
  },
  {
   "cell_type": "code",
   "execution_count": null,
   "id": "0a121dba-90a9-49ca-814d-cc2905db41b5",
   "metadata": {},
   "outputs": [],
   "source": [
    "agent(\"Give me directions to San Diego?\")"
   ]
  },
  {
   "cell_type": "markdown",
   "id": "6efbd120-7dd6-4386-993f-3665e3fd9af8",
   "metadata": {},
   "source": [
    "## Conclusion and Cleanup\n",
    "In this notebook we learnt how to:\n",
    "- Setup Entra ID API and Application to provide OAuth Client Credential (M2M) flow\n",
    "- Create an AgentCore Gateway\n",
    "- Create a lambda function and add it as a target on the AgentCore Gateway we created. Lambda funtions will be available as a MCP tools through AgentCore Gateway.\n",
    "- Use MCP client to access tools provided through Gateway, bind the tools to a Strands Agent, and use it to address user queries."
   ]
  },
  {
   "cell_type": "markdown",
   "id": "eb74a1b2-a9f5-4836-b4ad-2de22157fe5e",
   "metadata": {},
   "source": [
    "#### Resources created"
   ]
  },
  {
   "cell_type": "code",
   "execution_count": null,
   "id": "8ee50f01-fd25-4f64-9485-ed80e2b6067d",
   "metadata": {},
   "outputs": [],
   "source": [
    "lambda_arn, role_arn, gateway_id, lambda_role_arn, create_response[\"gatewayArn\"]"
   ]
  },
  {
   "cell_type": "code",
   "execution_count": null,
   "id": "7e5c22e1-ddc8-4c04-8dfa-bca89c52d6f0",
   "metadata": {},
   "outputs": [],
   "source": [
    "create_target_response[\"targetId\"]"
   ]
  },
  {
   "cell_type": "markdown",
   "id": "399f21ac-887b-406f-9818-acbf9bca7607",
   "metadata": {},
   "source": [
    "#### Delete lambda target on your Gateway."
   ]
  },
  {
   "cell_type": "code",
   "execution_count": null,
   "id": "c1c07715-8e06-4b0f-b00b-5d6f3e4e14c0",
   "metadata": {},
   "outputs": [],
   "source": [
    "gateway_client.delete_gateway_target(gatewayIdentifier=gateway_id, targetId=create_target_response[\"targetId\"])"
   ]
  },
  {
   "cell_type": "markdown",
   "id": "5c7aa440-603e-4f12-aa5e-be2b921c6dd3",
   "metadata": {},
   "source": [
    "#### Delete gateway"
   ]
  },
  {
   "cell_type": "code",
   "execution_count": null,
   "id": "c65a5991-9206-4506-8bc3-e1dffa0b7568",
   "metadata": {},
   "outputs": [],
   "source": [
    "gateway_client.delete_gateway(gatewayIdentifier=gateway_id)"
   ]
  },
  {
   "cell_type": "markdown",
   "id": "68eec24e-0974-4cca-982e-03088cf6e122",
   "metadata": {},
   "source": [
    "#### Delete lambda funtion you created."
   ]
  },
  {
   "cell_type": "code",
   "execution_count": null,
   "id": "0fa4c3f2-e166-4b1e-92c8-e8cd0c392e55",
   "metadata": {},
   "outputs": [],
   "source": [
    "function_name = lambda_arn.split(':')[-1]\n",
    "lambda_client.delete_function(FunctionName=function_name)"
   ]
  },
  {
   "cell_type": "markdown",
   "id": "0d5c06dc-7df2-436d-8617-2872bfcd6ffc",
   "metadata": {},
   "source": [
    "#### Delete created roles"
   ]
  },
  {
   "cell_type": "code",
   "execution_count": null,
   "id": "fa86ae0d-1513-49cf-b698-2b56ce38d18f",
   "metadata": {},
   "outputs": [],
   "source": [
    "role_name = lambda_role_arn.split('/')[-1]\n",
    "inline = iam_client.list_role_policies(RoleName=role_name)\n",
    "for policy_name in inline['PolicyNames']:\n",
    "    iam_client.delete_role_policy(RoleName=role_name, PolicyName=policy_name)\n",
    "iam_client.delete_role(RoleName=role_name)"
   ]
  },
  {
   "cell_type": "code",
   "execution_count": null,
   "id": "669ef197-6e0b-4b8e-9025-e912cb267424",
   "metadata": {},
   "outputs": [],
   "source": [
    "role_name = role_arn.split('/')[-1]\n",
    "inline = iam_client.list_role_policies(RoleName=role_name)\n",
    "for policy_name in inline['PolicyNames']:\n",
    "    iam_client.delete_role_policy(RoleName=role_name, PolicyName=policy_name)\n",
    "iam_client.delete_role(RoleName=role_name)"
   ]
  }
 ],
 "metadata": {
  "kernelspec": {
   "display_name": "Python 3 (ipykernel)",
   "language": "python",
   "name": "python3"
  },
  "language_info": {
   "codemirror_mode": {
    "name": "ipython",
    "version": 3
   },
   "file_extension": ".py",
   "mimetype": "text/x-python",
   "name": "python",
   "nbconvert_exporter": "python",
   "pygments_lexer": "ipython3",
   "version": "3.12.9"
  }
 },
 "nbformat": 4,
 "nbformat_minor": 5
}
