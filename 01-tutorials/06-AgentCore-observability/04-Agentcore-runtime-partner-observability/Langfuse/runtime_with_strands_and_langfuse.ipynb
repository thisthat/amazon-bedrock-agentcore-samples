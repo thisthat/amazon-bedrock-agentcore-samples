{
 "cells": [
  {
   "cell_type": "markdown",
   "id": "5c0122e65c053f38",
   "metadata": {},
   "source": [
    "# Strands Agent with Langfuse Observability on Amazon Bedrock AgentCore Runtime\n",
    "\n",
    "## Overview\n",
    "\n",
    "This notebook demonstrates deploying a Strands agent to Amazon Bedrock AgentCore Runtime with Langfuse observability integration. The implementation uses Amazon Bedrock Claude models and sends telemetry data to Langfuse through OpenTelemetry (OTEL).\n",
    "\n",
    "## Key Components\n",
    "\n",
    "- **Strands Agents**: Python framework for building LLM-powered agents with built-in telemetry support\n",
    "- **Amazon Bedrock AgentCore Runtime**: Managed runtime service for hosting and scaling agents on AWS\n",
    "- **Langfuse**: Open-source observability platform for LLM applications that receives traces via OTEL\n",
    "- **OpenTelemetry**: Industry-standard protocol for collecting and exporting telemetry data\n",
    "\n",
    "## Architecture\n",
    "\n",
    "The agent is containerized and deployed to AgentCore Runtime, which provides HTTP endpoints for invocation. Telemetry data flows from the Strands agent through OTEL exporters to Langfuse for monitoring and debugging. The implementation disables AgentCore's default observability to use Langfuse instead.\n",
    "\n",
    "## Prerequisites\n",
    "\n",
    "- Python 3.10+\n",
    "- AWS credentials configured with Bedrock and AgentCore permissions\n",
    "- [Langfuse](https://langfuse.com/) account with API keys (public and secret keys)\n",
    "- Docker installed locally\n",
    "- Access to Amazon Bedrock Claude models in us-west-2"
   ]
  },
  {
   "cell_type": "code",
   "execution_count": null,
   "id": "initial_id",
   "metadata": {
    "jupyter": {
     "is_executing": true
    }
   },
   "outputs": [],
   "source": [
    "!pip install --force-reinstall -U -r requirements.txt --quiet"
   ]
  },
  {
   "cell_type": "markdown",
   "id": "def21rvknub",
   "metadata": {},
   "source": [
    "## Configure AWS Credentials"
   ]
  },
  {
   "cell_type": "markdown",
   "id": "932110e6-fca6-47b6-b7c5-c4714a866a80",
   "metadata": {},
   "source": [
    "## Agent Implementation\n",
    "\n",
    "The agent file (`strands_claude.py`) implements a travel agent with web search capabilities. Key configuration includes:\n",
    "- Disabling AgentCore's default OTEL configuration\n",
    "- Setting Langfuse endpoint and authentication\n",
    "- Initializing Strands telemetry after environment variables are configured"
   ]
  },
  {
   "cell_type": "code",
   "execution_count": null,
   "id": "3b845b32-a03e-45c2-a2f0-2afba8069f47",
   "metadata": {},
   "outputs": [],
   "source": [
    "%%writefile strands_claude.py\n",
    "import base64\n",
    "import argparse\n",
    "import json\n",
    "from bedrock_agentcore.runtime import BedrockAgentCoreApp\n",
    "import os\n",
    "from strands import Agent, tool\n",
    "from strands.models import BedrockModel\n",
    "from strands.telemetry import StrandsTelemetry\n",
    "from ddgs import DDGS\n",
    "\n",
    "\n",
    "# AWS Bedrock configuration\n",
    "os.environ[\"BEDROCK_MODEL_ID\"] = \"us.anthropic.claude-3-7-sonnet-20250219-v1:0\"\n",
    "\n",
    "# Langfuse configuration\n",
    "os.environ[\"OTEL_ENDPOINT\"] = \"https://us.cloud.langfuse.com\" + \"/api/public/otel\"\n",
    "os.environ[\"LANGFUSE_SECRET_API_KEY\"] = \"<Your-SECRET-API-KEY>\"\n",
    "os.environ[\"LANGFUSE_PUBLIC_API_KEY\"] = \"<Your-PUBLIC-API-KEY>\"\n",
    "os.environ[\"LANGFUSE_PROJECT_NAME\"] = \"<Your-Project-Name>\"\n",
    "\n",
    "@tool\n",
    "def web_search(query: str) -> str:\n",
    "    \"\"\"\n",
    "    Search the web for information using DuckDuckGo.\n",
    "    \n",
    "    Args:\n",
    "        query: The search query\n",
    "    \n",
    "    Returns:\n",
    "        A string containing the search results\n",
    "    \"\"\"\n",
    "    try:\n",
    "        ddgs = DDGS()\n",
    "        results = ddgs.text(query, max_results=5)\n",
    "        \n",
    "        formatted_results = []\n",
    "        for i, result in enumerate(results, 1):\n",
    "            formatted_results.append(\n",
    "                f\"{i}. {result.get('title', 'No title')}\\n\"\n",
    "                f\"   {result.get('body', 'No summary')}\\n\"\n",
    "                f\"   Source: {result.get('href', 'No URL')}\\n\"\n",
    "            )\n",
    "        \n",
    "        return \"\\n\".join(formatted_results) if formatted_results else \"No results found.\"\n",
    "        \n",
    "    except Exception as e:\n",
    "        return f\"Error searching the web: {str(e)}\"\n",
    "\n",
    "# Function to initialize Bedrock model\n",
    "def get_bedrock_model():\n",
    "    model_id = os.getenv(\"BEDROCK_MODEL_ID\", \"anthropic.claude-3-haiku-20240307-v1:0\")\n",
    "    region = os.getenv(\"AWS_DEFAULT_REGION\", \"us-west-2\")\n",
    "    \n",
    "    bedrock_model = BedrockModel(\n",
    "        model_id=model_id,\n",
    "        region_name=region,\n",
    "        temperature=0.0,\n",
    "        max_tokens=1024\n",
    "    )\n",
    "    return bedrock_model\n",
    "\n",
    "# Initialize the Bedrock model\n",
    "bedrock_model = get_bedrock_model()\n",
    "\n",
    "# Define the agent's system prompt (exact from AWS sample)\n",
    "system_prompt = \"\"\"You are an experienced travel agent specializing in personalized travel recommendations \n",
    "with access to real-time web information. Your role is to find dream destinations matching user preferences \n",
    "using web search for current information. You should provide comprehensive recommendations with current \n",
    "information, brief descriptions, and practical travel details.\"\"\"\n",
    "\n",
    "app = BedrockAgentCoreApp()\n",
    "\n",
    "@app.entrypoint\n",
    "def strands_agent_bedrock(payload):\n",
    "    \"\"\"\n",
    "    Invoke the agent with a payload\n",
    "    \"\"\"\n",
    "    os.environ[\"DISABLE_ADOT_OBSERVABILITY\"] = \"true\"\n",
    "\n",
    "    for k in [\n",
    "        \"OTEL_EXPORTER_OTLP_LOGS_HEADERS\",\n",
    "        \"AGENT_OBSERVABILITY_ENABLED\",\n",
    "        \"OTEL_PYTHON_DISTRO\",\n",
    "        \"OTEL_RESOURCE_ATTRIBUTES\",\n",
    "        \"OTEL_PYTHON_CONFIGURATOR\",\n",
    "        \"OTEL_PYTHON_EXCLUDED_URLS\"\n",
    "        ]:\n",
    "        os.environ.pop(k, None)\n",
    "\n",
    "    ### Langfuse configuration``\n",
    "    public_key = os.getenv(\"LANGFUSE_PUBLIC_API_KEY\")\n",
    "    secret_key = os.getenv(\"LANGFUSE_SECRET_API_KEY\")\n",
    "\n",
    "    # Create authentication token:\n",
    "    auth_token = base64.b64encode(f\"{public_key}:{secret_key}\".encode()).decode()\n",
    "\n",
    "    os.environ[\"OTEL_EXPORTER_OTLP_ENDPOINT\"] = os.getenv(\"OTEL_ENDPOINT\")\n",
    "    os.environ[\"OTEL_EXPORTER_OTLP_HEADERS\"] = f\"Authorization=Basic {auth_token}\"\n",
    "\n",
    "    user_input = payload.get(\"prompt\")\n",
    "    print(\"User input:\", user_input)\n",
    "\n",
    "    # Initialize Strands telemetry and setup OTLP exporter\n",
    "    strands_telemetry = StrandsTelemetry()\n",
    "    strands_telemetry.setup_otlp_exporter()\n",
    "\n",
    "    # Create the agent\n",
    "    agent = Agent(\n",
    "        model=bedrock_model,\n",
    "        system_prompt=system_prompt,\n",
    "        tools=[web_search]\n",
    "    )\n",
    "\n",
    "    response = agent(user_input)\n",
    "    return response.message['content'][0]['text']\n",
    "\n",
    "if __name__ == \"__main__\":\n",
    "    app.run()"
   ]
  },
  {
   "cell_type": "markdown",
   "id": "680f3c05",
   "metadata": {},
   "source": [
    "### Configure AgentCore Runtime deployment\n",
    "\n",
    "Next we will use our starter toolkit to configure the AgentCore Runtime deployment with an entrypoint, the execution role we just created and a requirements file. We will also configure the starter kit to auto create the Amazon ECR repository on launch.\n",
    "\n",
    "During the configure step, your docker file will be generated based on your application code. Please note that when using the `bedrock_agentcore_starter_toolkit` to configure your agent, it configures AgentCore Observability by default so, to use Braintrust, you need to remove configuration for AgentCore Observability as explained below:\n",
    "\n",
    "<div style=\"text-align:left\">\n",
    "    <img src=\"../images/configure.png\" width=\"40%\"/>\n",
    "</div>"
   ]
  },
  {
   "cell_type": "code",
   "execution_count": null,
   "id": "2e79eba2-ca59-463f-9ebf-56e362d7ae66",
   "metadata": {},
   "outputs": [],
   "source": [
    "from bedrock_agentcore_starter_toolkit import Runtime\n",
    "from boto3.session import Session\n",
    "boto_session = Session()\n",
    "region = boto_session.region_name\n",
    "\n",
    "agentcore_runtime = Runtime()\n",
    "agent_name = \"strands_langfuse_observability\"\n",
    "response = agentcore_runtime.configure(\n",
    "    entrypoint=\"strands_claude.py\",\n",
    "    auto_create_execution_role=True,\n",
    "    auto_create_ecr=True,\n",
    "    requirements_file=\"requirements.txt\",\n",
    "    region=region,\n",
    "    agent_name=agent_name\n",
    ")\n",
    "response"
   ]
  },
  {
   "cell_type": "markdown",
   "id": "d0b8fb6b",
   "metadata": {},
   "source": [
    "## Enable Langfuse Observability\n",
    "\n",
    "To use Langfuse for observability, you need to modify the dockerfile before you deploy your agent to AgentCore Runtime.\n",
    "\n",
    "**Important:** At the end of the Dockerfile, you'll find a CMD instruction that needs to be modified:\n",
    "\n",
    "        * Before: `CMD [\"opentelemetry-instrument\", \"python\", \"-m\", \"strands_claude\"]` \n",
    "        * After: `CMD [\"python\", \"-m\", \"strands_claude\"]`\n",
    "\n",
    "Remove the `\"opentelemetry-instrument\"` argument from the command. This change is crucial because it disables AgentCore's built-in observability and enables Langfuse observability instead."
   ]
  },
  {
   "cell_type": "markdown",
   "id": "c4vnazx93s",
   "metadata": {},
   "source": [
    "## Deploy to AgentCore Runtime\n",
    "\n",
    "Now that we've got a docker file, let's launch the agent to the AgentCore Runtime. This will create the Amazon ECR repository and the AgentCore Runtime\n",
    "\n",
    "<div style=\"text-align:left\">\n",
    "    <img src=\"../images/launch.png\" width=\"75%\"/>\n",
    "</div>"
   ]
  },
  {
   "cell_type": "code",
   "execution_count": null,
   "id": "17a32ab8-7701-4900-8055-e24364bdf35c",
   "metadata": {},
   "outputs": [],
   "source": [
    "launch_result = agentcore_runtime.launch()\n",
    "launch_result"
   ]
  },
  {
   "cell_type": "markdown",
   "id": "a0ae9c09-09db-4a76-871a-92eacd96b9c3",
   "metadata": {},
   "source": [
    "## Check Deployment Status\n",
    "\n",
    "Wait for the runtime to be ready before invoking:"
   ]
  },
  {
   "cell_type": "code",
   "execution_count": null,
   "id": "afa6ac09-9adb-4846-9fc1-4d12aeb74853",
   "metadata": {},
   "outputs": [],
   "source": [
    "import time\n",
    "status_response = agentcore_runtime.status()\n",
    "status = status_response.endpoint['status']\n",
    "end_status = ['READY', 'CREATE_FAILED', 'DELETE_FAILED', 'UPDATE_FAILED']\n",
    "while status not in end_status:\n",
    "    time.sleep(10)\n",
    "    status_response = agentcore_runtime.status()\n",
    "    status = status_response.endpoint['status']\n",
    "    print(status)\n",
    "status"
   ]
  },
  {
   "cell_type": "markdown",
   "id": "b7f89c56-918a-4cab-beaa-c7ac43a2ba29",
   "metadata": {},
   "source": [
    "### Invoking AgentCore Runtime\n",
    "\n",
    "Finally, we can invoke our AgentCore Runtime with a payload\n",
    "\n",
    "<div style=\"text-align:left\">\n",
    "    <img src=\"../images/invoke.png\" width=75%\"/>\n",
    "</div>"
   ]
  },
  {
   "cell_type": "code",
   "execution_count": null,
   "id": "3d909e42-e1a0-407f-84c2-3d16cc889cd3",
   "metadata": {},
   "outputs": [],
   "source": [
    "from IPython.display import Markdown, display\n",
    "\n",
    "invoke_response = agentcore_runtime.invoke({\"prompt\": \"I'm planning a weekend trip to Tokyo. What are the must-visit places and local food I should try?\"})\n",
    "response_text = invoke_response['response'][0]\n",
    "display(Markdown(response_text))"
   ]
  },
  {
   "cell_type": "markdown",
   "id": "05efe60e",
   "metadata": {},
   "source": [
    "## View Traces in Langfuse\n",
    "\n",
    "To view the traces:\n",
    "1. Go to your Langfuse dashboard at https://cloud.langfuse.com\n",
    "2. Navigate to your project\n",
    "3. Click on \"Traces\" to view the telemetry data\n",
    "\n",
    "The traces will include:\n",
    "- Agent invocation details\n",
    "- Tool calls (web search)\n",
    "- Model interactions with latency and token usage\n",
    "- Request/response payloads"
   ]
  },
  {
   "cell_type": "markdown",
   "id": "7d3fdfe404469632",
   "metadata": {},
   "source": [
    "## Cleanup (Optional)\n",
    "\n",
    "Clean up the deployed resources:"
   ]
  },
  {
   "cell_type": "code",
   "execution_count": null,
   "id": "7c243e86-a214-483c-aef1-d5243f28ca9e",
   "metadata": {},
   "outputs": [],
   "source": [
    "launch_result.ecr_uri, launch_result.agent_id, launch_result.ecr_uri.split('/')[1]"
   ]
  },
  {
   "cell_type": "code",
   "execution_count": null,
   "id": "76a6cf1416830a54",
   "metadata": {},
   "outputs": [],
   "source": [
    "agentcore_control_client = boto3.client(\n",
    "    'bedrock-agentcore-control',\n",
    "    region_name=region\n",
    ")\n",
    "ecr_client = boto3.client(\n",
    "    'ecr',\n",
    "    region_name=region\n",
    "    \n",
    ")\n",
    "\n",
    "runtime_delete_response = agentcore_control_client.delete_agent_runtime(\n",
    "    agentRuntimeId=launch_result.agent_id,\n",
    "    \n",
    ")\n",
    "\n",
    "response = ecr_client.delete_repository(\n",
    "    repositoryName=launch_result.ecr_uri.split('/')[1],\n",
    "    force=True\n",
    ")"
   ]
  },
  {
   "cell_type": "markdown",
   "id": "b118ad38-feeb-4d1d-9d57-e5c845becc56",
   "metadata": {},
   "source": [
    "## Summary\n",
    "\n",
    "You have successfully deployed a Strands agent to Amazon Bedrock AgentCore Runtime with Langfuse observability. The implementation demonstrates:\n",
    "- Integration of Strands agents with AgentCore Runtime\n",
    "- Configuration of OpenTelemetry to send traces to Langfuse\n",
    "- Proper initialization order to ensure telemetry configuration\n",
    "- Invocation through both SDK and boto3 client\n",
    "\n",
    "The agent is now running in a managed, scalable environment with full observability through Langfuse."
   ]
  }
 ],
 "metadata": {
  "kernelspec": {
   "display_name": ".venv",
   "language": "python",
   "name": "python3"
  },
  "language_info": {
   "codemirror_mode": {
    "name": "ipython",
    "version": 3
   },
   "file_extension": ".py",
   "mimetype": "text/x-python",
   "name": "python",
   "nbconvert_exporter": "python",
   "pygments_lexer": "ipython3",
   "version": "3.12.0"
  }
 },
 "nbformat": 4,
 "nbformat_minor": 5
}
