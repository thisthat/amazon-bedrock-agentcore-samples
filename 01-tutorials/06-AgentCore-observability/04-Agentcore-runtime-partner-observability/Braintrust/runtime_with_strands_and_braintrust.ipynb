{
 "cells": [
  {
   "cell_type": "markdown",
   "metadata": {},
   "source": [
    "# Strands Agent with Braintrust Observability on Amazon Bedrock AgentCore Runtime\n",
    "\n",
    "## Overview\n",
    "\n",
    "This notebook demonstrates deploying a Strands agent to Amazon Bedrock AgentCore Runtime with Braintrust observability integration. The implementation uses Amazon Bedrock Claude models and sends telemetry data to Braintrust through OpenTelemetry (OTEL).\n",
    "\n",
    "## Key Components\n",
    "\n",
    "- **Strands Agents**: Python framework for building LLM-powered agents with built-in telemetry support\n",
    "- **Amazon Bedrock AgentCore Runtime**: Managed runtime service for hosting and scaling agents on AWS\n",
    "- **Braintrust**: Observability platform for monitoring and debugging LLM applications\n",
    "- **OpenTelemetry**: Industry-standard protocol for collecting and exporting telemetry data\n",
    "\n",
    "## Architecture\n",
    "\n",
    "The agent is containerized and deployed to Amazon Bedrock AgentCore Runtime, which provides HTTP endpoints for invocation. Telemetry data flows from the Strands agent through OTEL exporters to Braintrust for monitoring and debugging. The implementation uses a lazy initialization pattern to ensure proper configuration order.\n",
    "\n",
    "## Prerequisites\n",
    "\n",
    "- Python 3.10+\n",
    "- AWS credentials configured with Bedrock and AgentCore permissions\n",
    "- Braintrust account with API key. Please check [Braintrust website](https://www.braintrust.dev/) for details\n",
    "- Docker installed locally\n",
    "- Access to Amazon Bedrock Claude models in us-west-2"
   ]
  },
  {
   "cell_type": "markdown",
   "metadata": {},
   "source": [
    "## Installation\n",
    "\n",
    "Install required dependencies from the requirements.txt file:"
   ]
  },
  {
   "cell_type": "code",
   "execution_count": null,
   "metadata": {},
   "outputs": [],
   "source": [
    "!pip install --force-reinstall -U -r requirements.txt --quiet"
   ]
  },
  {
   "cell_type": "markdown",
   "metadata": {},
   "source": [
    "## Agent Implementation\n",
    "\n",
    "The agent file (`strands_braintrust.py`) implements a travel agent with web search capabilities. Key features:\n",
    "- Lazy initialization pattern ensures telemetry is configured after environment variables\n",
    "- Disables AgentCore's default OTEL configuration\n",
    "- Configures Braintrust endpoint with Bearer token authentication\n",
    "- Uses global variables to cache the initialized agent"
   ]
  },
  {
   "cell_type": "code",
   "execution_count": null,
   "metadata": {},
   "outputs": [],
   "source": [
    "%%writefile strands_braintrust.py\n",
    "import base64\n",
    "import argparse\n",
    "import json\n",
    "from bedrock_agentcore.runtime import BedrockAgentCoreApp\n",
    "import os\n",
    "from strands import Agent, tool\n",
    "from strands.models import BedrockModel\n",
    "from strands.telemetry import StrandsTelemetry\n",
    "from ddgs import DDGS\n",
    "\n",
    "# AWS Bedrock configuration\n",
    "os.environ[\"BEDROCK_MODEL_ID\"] = \"us.anthropic.claude-3-7-sonnet-20250219-v1:0\" # Example model ID\n",
    "\n",
    "# Braintrust configuration\n",
    "os.environ[\"OTEL_ENDPOINT\"] = \"https://api.braintrust.dev/otel\"\n",
    "os.environ[\"BRAINTRUST_API_KEY\"] = \"<Your-API-KEY>\"\n",
    "os.environ[\"BRAINTRUST_PROJECT_NAME\"] = \"<Your-Project-Name>\"\n",
    "\n",
    "@tool\n",
    "def web_search(query: str) -> str:\n",
    "    \"\"\"\n",
    "    Search the web for information using DuckDuckGo.\n",
    "\n",
    "    Args:\n",
    "        query: The search query\n",
    "\n",
    "    Returns:\n",
    "        A string containing the search results\n",
    "    \"\"\"\n",
    "    try:\n",
    "        ddgs = DDGS()\n",
    "        results = ddgs.text(query, max_results=5)\n",
    "\n",
    "        formatted_results = []\n",
    "        for i, result in enumerate(results, 1):\n",
    "            formatted_results.append(\n",
    "                f\"{i}. {result.get('title', 'No title')}\\n\"\n",
    "                f\"   {result.get('body', 'No summary')}\\n\"\n",
    "                f\"   Source: {result.get('href', 'No URL')}\\n\"\n",
    "            )\n",
    "\n",
    "        return \"\\n\".join(formatted_results) if formatted_results else \"No results found.\"\n",
    "\n",
    "    except Exception as e:\n",
    "        return f\"Error searching the web: {str(e)}\"\n",
    "\n",
    "# Function to initialize Bedrock model\n",
    "def get_bedrock_model():\n",
    "    region = os.getenv(\"AWS_DEFAULT_REGION\", \"us-west-2\")\n",
    "    model_id = os.getenv(\"BEDROCK_MODEL_ID\", \"us.anthropic.claude-3-7-sonnet-20250219-v1:0\")\n",
    "\n",
    "    bedrock_model = BedrockModel(\n",
    "        model_id=model_id,\n",
    "        region_name=region,\n",
    "        temperature=0.0,\n",
    "        max_tokens=1024\n",
    "    )\n",
    "    return bedrock_model\n",
    "\n",
    "# Initialize the Bedrock model\n",
    "bedrock_model = get_bedrock_model()\n",
    "\n",
    "# Define the agent's system prompt\n",
    "system_prompt = \"\"\"You are an experienced travel agent specializing in personalized travel recommendations \n",
    "with access to real-time web information. Your role is to find dream destinations matching user preferences \n",
    "using web search for current information. You should provide comprehensive recommendations with current \n",
    "information, brief descriptions, and practical travel details.\"\"\"\n",
    "\n",
    "app = BedrockAgentCoreApp()\n",
    "\n",
    "def initialize_agent():\n",
    "    \"\"\"Initialize the agent with proper telemetry configuration.\"\"\"\n",
    "    \n",
    "    # Disable AgentCore's default observability\n",
    "    os.environ[\"DISABLE_ADOT_OBSERVABILITY\"] = \"true\"\n",
    "    \n",
    "    # Clear any existing AgentCore OTEL environment variables\n",
    "    for k in [\n",
    "        \"OTEL_EXPORTER_OTLP_LOGS_HEADERS\",\n",
    "        \"AGENT_OBSERVABILITY_ENABLED\",\n",
    "        \"OTEL_PYTHON_DISTRO\",\n",
    "        \"OTEL_RESOURCE_ATTRIBUTES\",\n",
    "        \"OTEL_PYTHON_CONFIGURATOR\",\n",
    "        \"OTEL_PYTHON_EXCLUDED_URLS\"\n",
    "    ]:\n",
    "        os.environ.pop(k, None)\n",
    "    \n",
    "    # Braintrust configuration\n",
    "    api_key = os.getenv(\"BRAINTRUST_API_KEY\")\n",
    "    project_name = os.getenv(\"BRAINTRUST_PROJECT_NAME\")\n",
    "    \n",
    "    # Configure OTEL environment variables for Braintrust\n",
    "    os.environ[\"OTEL_EXPORTER_OTLP_ENDPOINT\"] = os.getenv(\"OTEL_ENDPOINT\")\n",
    "    os.environ[\"OTEL_EXPORTER_OTLP_HEADERS\"] = f\"Authorization=Bearer {api_key},x-bt-parent=project_name:{project_name}\"\n",
    "    \n",
    "    # Initialize Strands telemetry with Braintrust configuration\n",
    "    strands_telemetry = StrandsTelemetry()\n",
    "    strands_telemetry.setup_otlp_exporter()\n",
    "    \n",
    "    # Create and cache the agent\n",
    "    agent = Agent(\n",
    "        model=bedrock_model,\n",
    "        system_prompt=system_prompt,\n",
    "        tools=[web_search]\n",
    "    )\n",
    "    \n",
    "    return agent\n",
    "\n",
    "@app.entrypoint\n",
    "def strands_agent_bedrock(payload):\n",
    "    \"\"\"\n",
    "    Invoke the agent with a payload\n",
    "    \"\"\"\n",
    "    user_input = payload.get(\"prompt\")\n",
    "    print(\"User input:\", user_input)\n",
    "    \n",
    "    # Initialize agent with proper configuration\n",
    "    agent = initialize_agent()\n",
    "    \n",
    "    response = agent(user_input)\n",
    "    return response.message['content'][0]['text']\n",
    "\n",
    "if __name__ == \"__main__\":\n",
    "    app.run()"
   ]
  },
  {
   "cell_type": "markdown",
   "metadata": {},
   "source": [
    "### Configure AgentCore Runtime deployment\n",
    "\n",
    "Next we will use our starter toolkit to configure the AgentCore Runtime deployment with an entrypoint, the execution role we just created and a requirements file. We will also configure the starter kit to auto create the Amazon ECR repository on launch.\n",
    "\n",
    "During the configure step, your docker file will be generated based on your application code. Please note that when using the `bedrock_agentcore_starter_toolkit` to configure your agent, it configures AgentCore Observability by default so, to use Braintrust, you need to remove configuration for AgentCore Observability as explained below:\n",
    "\n",
    "<div style=\"text-align:left\">\n",
    "    <img src=\"../images/configure.png\" width=\"40%\"/>\n",
    "</div>"
   ]
  },
  {
   "cell_type": "code",
   "execution_count": null,
   "metadata": {},
   "outputs": [],
   "source": [
    "from bedrock_agentcore_starter_toolkit import Runtime\n",
    "from boto3.session import Session\n",
    "\n",
    "boto_session = Session()\n",
    "region = boto_session.region_name\n",
    "\n",
    "agentcore_runtime = Runtime()\n",
    "agent_name = \"strands_braintrust_observability\"\n",
    "\n",
    "response = agentcore_runtime.configure(\n",
    "    entrypoint=\"strands_braintrust.py\",\n",
    "    auto_create_execution_role=True,\n",
    "    auto_create_ecr=True,\n",
    "    requirements_file=\"requirements.txt\",\n",
    "    region=region,\n",
    "    agent_name=agent_name\n",
    ")\n",
    "response"
   ]
  },
  {
   "cell_type": "markdown",
   "metadata": {},
   "source": [
    "## Enable Braintrust Observability\n",
    "\n",
    "To use Braintrust for observability, you need to modify the dockerfile before you deploy your agent to AgentCore Runtime.\n",
    "\n",
    "**Important:** At the end of the Dockerfile, you'll find a CMD instruction that needs to be modified:\n",
    "\n",
    "        * Before: `CMD [\"opentelemetry-instrument\", \"python\", \"-m\", \"strands_braintrust_observability\"]` \n",
    "        * After: `CMD [\"python\", \"-m\", \"strands_braintrust_observability\"]`\n",
    "\n",
    "Remove the `\"opentelemetry-instrument\"` argument from the command. This change is crucial because it disables AgentCore's built-in observability and enables Braintrust observability instead."
   ]
  },
  {
   "cell_type": "markdown",
   "metadata": {},
   "source": [
    "## Deploy to AgentCore Runtime\n",
    "\n",
    "Now that we've got a docker file, let's launch the agent to the AgentCore Runtime. This will create the Amazon ECR repository and the AgentCore Runtime\n",
    "\n",
    "<div style=\"text-align:left\">\n",
    "    <img src=\"../images/launch.png\" width=\"75%\"/>\n",
    "</div>"
   ]
  },
  {
   "cell_type": "code",
   "execution_count": null,
   "metadata": {},
   "outputs": [],
   "source": [
    "launch_result = agentcore_runtime.launch()\n",
    "launch_result"
   ]
  },
  {
   "cell_type": "markdown",
   "metadata": {},
   "source": [
    "## Check Deployment Status\n",
    "\n",
    "Wait for the runtime to be ready before invoking:"
   ]
  },
  {
   "cell_type": "code",
   "execution_count": null,
   "metadata": {},
   "outputs": [],
   "source": [
    "import time\n",
    "\n",
    "status_response = agentcore_runtime.status()\n",
    "status = status_response.endpoint['status']\n",
    "end_status = ['READY', 'CREATE_FAILED', 'DELETE_FAILED', 'UPDATE_FAILED']\n",
    "\n",
    "while status not in end_status:\n",
    "    time.sleep(10)\n",
    "    status_response = agentcore_runtime.status()\n",
    "    status = status_response.endpoint['status']\n",
    "    print(status)\n",
    "\n",
    "print(f\"Final status: {status}\")"
   ]
  },
  {
   "cell_type": "markdown",
   "metadata": {},
   "source": [
    "### Invoking AgentCore Runtime\n",
    "\n",
    "Finally, we can invoke our AgentCore Runtime with a payload\n",
    "\n",
    "<div style=\"text-align:left\">\n",
    "    <img src=\"../images/invoke.png\" width=75%\"/>\n",
    "</div>"
   ]
  },
  {
   "cell_type": "code",
   "execution_count": null,
   "metadata": {},
   "outputs": [],
   "source": [
    "from IPython.display import Markdown, display\n",
    "\n",
    "invoke_response = agentcore_runtime.invoke({\"prompt\": \"I'm planning a weekend trip to Tokyo. What are the must-visit places and local food I should try?\"})\n",
    "response_text = invoke_response['response'][0]\n",
    "display(Markdown(response_text))"
   ]
  },
  {
   "cell_type": "markdown",
   "metadata": {},
   "source": [
    "## View Traces in Braintrust\n",
    "\n",
    "To view the traces:\n",
    "1. Go to your Braintrust dashboard at https://www.braintrust.dev\n",
    "2. Navigate to your project (e.g., \"Strands Agent Demo\")\n",
    "3. Click on \"Logs\" to view the telemetry data\n",
    "\n",
    "The traces will include:\n",
    "- Agent invocation details\n",
    "- Tool calls (web search)\n",
    "- Model interactions with latency and token usage\n",
    "- Request/response payloads and much more"
   ]
  },
  {
   "cell_type": "markdown",
   "metadata": {},
   "source": [
    "## Cleanup (Optional)"
   ]
  },
  {
   "cell_type": "code",
   "execution_count": null,
   "metadata": {},
   "outputs": [],
   "source": [
    "import boto3\n",
    "# Delete the AgentCore Runtime and ECR repository\n",
    "agentcore_control_client = boto3.client(\n",
    "    'bedrock-agentcore-control',\n",
    "    region_name=region\n",
    ")\n",
    "\n",
    "ecr_client = boto3.client(\n",
    "    'ecr',\n",
    "    region_name=region\n",
    ")\n",
    "\n",
    "# Delete the runtime\n",
    "runtime_delete_response = agentcore_control_client.delete_agent_runtime(\n",
    "    agentRuntimeId=launch_result.agent_id,\n",
    ")\n",
    "\n",
    "# Delete the ECR repository\n",
    "response = ecr_client.delete_repository(\n",
    "    repositoryName=launch_result.ecr_uri.split('/')[1],\n",
    "    force=True\n",
    ")\n",
    "\n",
    "print(\"Cleanup completed\")"
   ]
  },
  {
   "cell_type": "markdown",
   "metadata": {},
   "source": [
    "## Summary\n",
    "\n",
    "You have successfully deployed a Strands agent to Amazon Bedrock AgentCore Runtime with Braintrust observability. The implementation demonstrates:\n",
    "- Integration of Strands agents with AgentCore Runtime\n",
    "- Lazy initialization pattern to ensure proper configuration order\n",
    "- Configuration of OpenTelemetry to send traces to Braintrust\n",
    "- Invocation through both SDK and boto3 client\n",
    "\n",
    "The agent is now running in a managed, scalable environment with full observability through Braintrust."
   ]
  }
 ],
 "metadata": {
  "kernelspec": {
   "display_name": ".venv",
   "language": "python",
   "name": "python3"
  },
  "language_info": {
   "codemirror_mode": {
    "name": "ipython",
    "version": 3
   },
   "file_extension": ".py",
   "mimetype": "text/x-python",
   "name": "python",
   "nbconvert_exporter": "python",
   "pygments_lexer": "ipython3",
   "version": "3.12.0"
  }
 },
 "nbformat": 4,
 "nbformat_minor": 4
}
