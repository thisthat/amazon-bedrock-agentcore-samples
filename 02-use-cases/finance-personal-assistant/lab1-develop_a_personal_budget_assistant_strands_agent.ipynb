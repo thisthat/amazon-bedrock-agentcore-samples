{
 "cells": [
  {
   "cell_type": "markdown",
   "id": "f185eb02",
   "metadata": {},
   "source": [
    "# Lab 1: Develop a personal budget assistant Strands agent"
   ]
  },
  {
   "cell_type": "markdown",
   "id": "19183f7e",
   "metadata": {},
   "source": [
    "## Overview"
   ]
  },
  {
   "cell_type": "markdown",
   "id": "63ee3dd2-e628-498a-bdec-fd302ee11ff6",
   "metadata": {},
   "source": [
    "In this lab, you'll create a sophisticated personal budget assistant using Strands Agents. We'll start with a basic conversational agent and progressively enhance it with advanced capabilities including model configuration, conversation management, custom tools, and structured outputs.\n",
    "\n",
    "This lab demonstrates core Strands Agents concepts through practical implementation, showing how each feature builds upon the previous one to create a comprehensive financial advisory system. By the end, you'll have a production-ready agent capable of providing personalized budgeting advice, spending analysis, and financial recommendations.\n",
    "\n",
    "We're creating a comprehensive **Budget Agent** that helps users manage their personal finances through intelligent conversation and specialized tools. The agent will provide budgeting guidance, analyze spending patterns, and offer actionable financial advice.\n",
    "\n",
    "![architecture](./images/single-agent.png)"
   ]
  },
  {
   "cell_type": "markdown",
   "id": "29666e56-f930-4377-864f-d3dc4b471ef1",
   "metadata": {},
   "source": [
    "### Budget Agent Tools & Capabilities\n",
    "\n",
    "| Tool | Description | Example Use Case |\n",
    "|------|-------------|------------------|\n",
    "| **calculate_budget** | Calculates 50/30/20 budget breakdown based on monthly income | \"I make $5000/month, create a budget for me\" |\n",
    "| **create_financial_chart** | Generates pie charts and visualizations of financial data | \"Visualize my spending across different categories\" |\n",
    "| **calculator** | Performs mathematical calculations for financial planning | \"Calculate 15% of my monthly income for savings\" |\n",
    "\n",
    "### Agent Features Summary\n",
    "\n",
    "Our Budget Agent will include:\n",
    "\n",
    "- **Personalized Financial Guidance**: Tailored advice based on income and spending patterns\n",
    "- **Interactive Budgeting**: Real-time budget calculations using the proven 50/30/20 rule\n",
    "- **Visual Analytics**: Chart generation for better financial data comprehension\n",
    "- **Conversation Memory**: Context retention across multiple interactions for personalized experiences\n",
    "- **Structured Reporting**: Consistent, parseable financial reports with health scores and recommendations\n",
    "- **Responsible AI**: Built-in guardrails and disclaimers for ethical financial advice\n",
    "\n",
    "The agent focuses exclusively on budgeting and spending analysis, providing practical, actionable guidance without investment advice. It serves as the foundation for more complex multi-agent systems you'll build in subsequent labs."
   ]
  },
  {
   "cell_type": "code",
   "execution_count": null,
   "id": "036645f5-a4db-4167-aac3-e27a31ebdca9",
   "metadata": {},
   "outputs": [],
   "source": [
    "# Install required dependencies for Strands agents and tools\n",
    "!pip install --force-reinstall -U -r requirements.txt --quiet"
   ]
  },
  {
   "cell_type": "code",
   "execution_count": null,
   "id": "678797cd-9b49-4686-8e68-5328d67cecdc",
   "metadata": {},
   "outputs": [],
   "source": [
    "# Import core Strands components and utilities for budget agent\n",
    "from strands import Agent, tool\n",
    "from strands.models import BedrockModel\n",
    "from strands_tools import calculator\n",
    "from utils import create_guardrail, pretty_print_messages\n",
    "import time\n",
    "import matplotlib.pyplot as plt"
   ]
  },
  {
   "cell_type": "markdown",
   "id": "59ec58a2-2130-4266-a2f2-8bc2519971cd",
   "metadata": {},
   "source": [
    "### Associate Amazon Bedrock Guardrail with Strands"
   ]
  },
  {
   "cell_type": "markdown",
   "id": "51caf60a-cda9-4b38-892d-e436d3e90b63",
   "metadata": {},
   "source": [
    "Amazon Bedrock provides a [built-in guardrails framework](https://docs.aws.amazon.com/bedrock/latest/userguide/guardrails.html) that integrates directly with the Strands Agents SDK. If a guardrail is triggered, the Strands Agents SDK will automatically overwrite the user's input in the conversation history. This is done so that follow-up questions are not also blocked by the same questions. This can be configured with the guardrail_redact_input boolean, and the guardrail_redact_input_message string to change the overwrite message. Additionally, the same functionality is built for the model's output, but this is disabled by default. You can enable this with the guardrail_redact_output boolean, and change the overwrite message with the guardrail_redact_output_message string. "
   ]
  },
  {
   "cell_type": "code",
   "execution_count": null,
   "id": "ed3393a1-c96e-4948-be82-8d74d431bc54",
   "metadata": {},
   "outputs": [],
   "source": [
    "# Create Bedrock guardrail for content filtering and safety\n",
    "guardrail_id, guardrail_arn = create_guardrail()"
   ]
  },
  {
   "cell_type": "markdown",
   "id": "b21a474e-aebb-4840-8f9b-7533a7f5c112",
   "metadata": {},
   "source": [
    "![guardrail](./images/guardrail.png)\n",
    "\n",
    "Below is an example of how to leverage Bedrock guardrails in your code:"
   ]
  },
  {
   "cell_type": "markdown",
   "id": "23a9b211-80f1-40ce-83d8-cf74a6539a24",
   "metadata": {},
   "source": [
    "**Make sure you have enabled [model access](https://docs.aws.amazon.com/bedrock/latest/userguide/model-access-modify.html) for Anthropic Claude 3.7 Sonnet on Amazon Bedrock.**"
   ]
  },
  {
   "cell_type": "code",
   "execution_count": null,
   "id": "13c2c292-8531-402b-8791-71b0f7af0b4b",
   "metadata": {},
   "outputs": [],
   "source": [
    "# Configure Bedrock model with Claude 3.7 Sonnet and guardrails\n",
    "bedrock_model = BedrockModel(\n",
    "    model_id=\"us.anthropic.claude-3-7-sonnet-20250219-v1:0\",\n",
    "    region_name=\"us-west-2\",\n",
    "    temperature=0.0,  # Deterministic responses for financial advice\n",
    "    guardrail_id=guardrail_id,  # Your Bedrock guardrail ID\n",
    "    guardrail_version=\"DRAFT\",  # Guardrail version\n",
    "    guardrail_trace=\"enabled\",\n",
    ")"
   ]
  },
  {
   "cell_type": "code",
   "execution_count": null,
   "id": "9e5ddde9-65e9-4325-8548-29a43c40e51d",
   "metadata": {},
   "outputs": [],
   "source": [
    "# Create basic agent with configured Bedrock model\n",
    "agent = Agent(model=bedrock_model)"
   ]
  },
  {
   "cell_type": "code",
   "execution_count": null,
   "id": "9b0821d0-9861-4055-8914-b6e0f747bbab",
   "metadata": {},
   "outputs": [],
   "source": [
    "# Test basic agent functionality with general question\n",
    "response_1 = agent(\"Hello! What can you do?\")"
   ]
  },
  {
   "cell_type": "code",
   "execution_count": null,
   "id": "0bc8a31f-a40b-4a63-a753-e7bbdf2c756e",
   "metadata": {},
   "outputs": [],
   "source": [
    "# Test guardrail blocking investment advice (should be filtered)\n",
    "response_2 = agent(\"Bitcoin investment advice\")"
   ]
  },
  {
   "cell_type": "code",
   "execution_count": null,
   "id": "3a9f0fe3-bdce-4b2a-b29a-4bbb43f87703",
   "metadata": {},
   "outputs": [],
   "source": [
    "# Display conversation history with formatting\n",
    "pretty_print_messages(messages=agent.messages)"
   ]
  },
  {
   "cell_type": "markdown",
   "id": "37197ffb-e322-45f7-be8f-9f37aed23aba",
   "metadata": {},
   "source": [
    "## Create Budget Agent"
   ]
  },
  {
   "cell_type": "markdown",
   "id": "7da9b019-e065-48d1-aa79-4cd3ac613333",
   "metadata": {},
   "source": [
    "### Step 1: Define a System Prompt"
   ]
  },
  {
   "cell_type": "code",
   "execution_count": null,
   "id": "430200e1-6c24-423d-8cce-75932e8ec0e1",
   "metadata": {},
   "outputs": [],
   "source": [
    "# Define system prompt for budget-focused financial assistant\n",
    "BUDGET_SYSTEM_PROMPT = \"\"\"You are a helpful personal finance assistant. \n",
    "You provide general strategies for creating budgets, tips on financial discipline to achieve financial milestones, and analyze financial trends. \n",
    "You do not provide any investment advice. Keep responses concise and actionable. Always provide 2-3 specific steps the user can take. Focus on practical budgeting and spending advice.\n",
    "\"\"\""
   ]
  },
  {
   "cell_type": "code",
   "execution_count": null,
   "id": "1a19a8f4-28c0-4b6d-b393-e95b2358169d",
   "metadata": {},
   "outputs": [],
   "source": [
    "# Create budget agent with custom system prompt\n",
    "budget_agent_sys = Agent(\n",
    "    model=bedrock_model, system_prompt=BUDGET_SYSTEM_PROMPT  # Associate a system prompt\n",
    ")"
   ]
  },
  {
   "cell_type": "code",
   "execution_count": null,
   "id": "85603432-362e-4905-9a27-5fa0155b2074",
   "metadata": {},
   "outputs": [],
   "source": [
    "# Test budget agent with dining expense analysis\n",
    "response_3 = budget_agent_sys(\n",
    "    \"I spend $800/month on dining out. Is this too much for someone making $5000/month?\"\n",
    ")"
   ]
  },
  {
   "cell_type": "markdown",
   "id": "43094ff7-a55c-4f4a-b10e-5215d1abe592",
   "metadata": {},
   "source": [
    "### Step 2: Add Conversation Manager"
   ]
  },
  {
   "cell_type": "markdown",
   "id": "a1e63552-588a-4d3c-8347-6c178fbcc358",
   "metadata": {},
   "source": [
    "In the Strands Agents SDK, context refers to the information provided to the agent for understanding and reasoning. This includes:\n",
    "\n",
    "- User messages\n",
    "- Agent responses\n",
    "- Tool usage and results\n",
    "- System prompts\n",
    "\n",
    "As conversations grow, managing this context becomes increasingly important for several reasons:\n",
    "\n",
    "- **Token Limits**: Language models have fixed context windows (maximum tokens they can process)\n",
    "- **Performance**: Larger contexts require more processing time and resources\n",
    "- **Relevance**: Older messages may become less relevant to the current conversation\n",
    "- **Coherence**: Maintaining logical flow and preserving important information\n",
    "\n",
    "#### Conversation Manager Types\n",
    "\n",
    "Strands Agents provides three types of conversation managers to handle different context management needs:\n",
    "\n",
    "1. **[SlidingWindowConversationManager](https://strandsagents.com/latest/documentation/docs/api-reference/agent/#strands.agent.conversation_manager.sliding_window_conversation_manager.SlidingWindowConversationManager)** (Default): Implements a sliding window strategy that maintains a fixed number of recent message pairs, automatically removing the oldest when the limit is reached. This is the default conversation manager used by the Agent class and is ideal for most applications where recent context is most important.\n",
    "\n",
    "2. **[NullConversationManager](https://strandsagents.com/latest/documentation/docs/api-reference/agent/#strands.agent.conversation_manager.null_conversation_manager.NullConversationManager)**: A simple implementation that does not modify the conversation history. It's useful for short conversations that won't exceed context limits, debugging purposes, or cases where you want to manage context manually.\n",
    "\n",
    "3. **[SummarizingConversationManager](https://strandsagents.com/latest/documentation/docs/api-reference/agent/#strands.agent.conversation_manager.summarizing_conversation_manager.SummarizingConversationManager)**: Implements intelligent conversation context management by summarizing older messages instead of simply discarding them. This approach preserves important information while staying within context limits, making it ideal for long-running conversations where historical context matters."
   ]
  },
  {
   "cell_type": "code",
   "execution_count": null,
   "id": "6dd6fdfa-8b54-4e17-ba51-30fe72b66dba",
   "metadata": {},
   "outputs": [],
   "source": [
    "# Import conversation manager for context handling\n",
    "from strands.agent.conversation_manager import SummarizingConversationManager"
   ]
  },
  {
   "cell_type": "code",
   "execution_count": null,
   "id": "98e03e43-aafe-4593-8987-6c0b3866f94f",
   "metadata": {},
   "outputs": [],
   "source": [
    "# Configure conversation manager to handle long conversations\n",
    "conversation_manager = SummarizingConversationManager(\n",
    "    summary_ratio=0.5,  # Summarize 50% of messages when context reduction is needed\n",
    "    preserve_recent_messages=3,  # Always keep 3 most recent messages\n",
    ")"
   ]
  },
  {
   "cell_type": "code",
   "execution_count": null,
   "id": "69bfb38a-45be-4246-aef3-c393c9084564",
   "metadata": {},
   "outputs": [],
   "source": [
    "# Create agent with conversation management capabilities\n",
    "budget_agent_manager = Agent(\n",
    "    model=bedrock_model,\n",
    "    system_prompt=BUDGET_SYSTEM_PROMPT,\n",
    "    conversation_manager=conversation_manager,  # Associate a conversation manager\n",
    "    callback_handler=None,\n",
    ")"
   ]
  },
  {
   "cell_type": "markdown",
   "id": "546f129f-1533-4156-bbdf-011c312207a8",
   "metadata": {},
   "source": [
    "### Step 3: Async Iterators for Streaming"
   ]
  },
  {
   "cell_type": "markdown",
   "id": "f5a8f20e-e644-4b1c-b3c9-9d3163018764",
   "metadata": {},
   "source": [
    "Strands Agents SDK provides support for asynchronous iterators through the [stream_async](https://strandsagents.com/latest/documentation/docs/api-reference/agent/#strands.agent.agent.Agent.stream_async) method, enabling real-time streaming of agent responses in asynchronous environments like web servers, APIs, and other async applications."
   ]
  },
  {
   "cell_type": "code",
   "execution_count": null,
   "id": "c69b8043-5574-4f9d-9dac-0c977d059574",
   "metadata": {},
   "outputs": [],
   "source": [
    "# Demonstrate streaming responses with async iterator\n",
    "async for event in budget_agent_manager.stream_async(\n",
    "    \"I make $5000/month and spend $800 on dining out. Is this too much?\"\n",
    "):\n",
    "    if \"data\" in event:\n",
    "        # Only stream text chunks to the client\n",
    "        print(event[\"data\"], end=\"\")\n",
    "        time.sleep(0.1) # show streaming properly"
   ]
  },
  {
   "cell_type": "markdown",
   "id": "4a0b643e-2204-4580-9d62-51af3a4c66b8",
   "metadata": {},
   "source": [
    "### Step 4: Add Financial Tools "
   ]
  },
  {
   "cell_type": "code",
   "execution_count": null,
   "id": "40999901-836b-4291-b276-ac3f2f46098f",
   "metadata": {},
   "outputs": [],
   "source": [
    "# Define custom tool for 50/30/20 budget calculations\n",
    "@tool\n",
    "def calculate_budget(monthly_income: float) -> str:\n",
    "    \"\"\"Calculate 50/30/20 budget breakdown for the given monthly income.\"\"\"\n",
    "    needs = monthly_income * 0.50\n",
    "    wants = monthly_income * 0.30\n",
    "    savings = monthly_income * 0.20\n",
    "    return f\"💰 Budget for ${monthly_income:,.0f}/month:\\n• Needs: ${needs:,.0f} (50%)\\n• Wants: ${wants:,.0f} (30%)\\n• Savings: ${savings:,.0f} (20%)\""
   ]
  },
  {
   "cell_type": "code",
   "execution_count": null,
   "id": "5dc01f02-9347-4ce7-a0f3-2e47c975305b",
   "metadata": {},
   "outputs": [],
   "source": [
    "# Define tool for creating financial pie charts\n",
    "@tool\n",
    "def create_financial_chart(\n",
    "    data_dict: dict, chart_title: str = \"Financial Chart\"\n",
    ") -> str:\n",
    "    \"\"\"Create a pie chart visualization from financial data dictionary.\"\"\"\n",
    "    if not data_dict:\n",
    "        return \"❌ No data provided for chart\"\n",
    "\n",
    "    labels = list(data_dict.keys())\n",
    "    values = list(data_dict.values())\n",
    "    colors = [\"#FF6B6B\", \"#4ECDC4\", \"#45B7D1\", \"#96CEB4\", \"#FECA57\", \"#FF9FF3\"]\n",
    "\n",
    "    plt.figure(figsize=(8, 6))\n",
    "    plt.pie(\n",
    "        values,\n",
    "        labels=labels,\n",
    "        autopct=\"%1.1f%%\",\n",
    "        colors=colors[: len(values)],\n",
    "        startangle=90,\n",
    "    )\n",
    "    plt.title(f\"📊 {chart_title}\", fontsize=14, fontweight=\"bold\")\n",
    "    plt.axis(\"equal\")\n",
    "    plt.tight_layout()\n",
    "    plt.show()\n",
    "\n",
    "    return f\"✅ {chart_title} visualization created!\""
   ]
  },
  {
   "cell_type": "code",
   "execution_count": null,
   "id": "58049c8a-4bb9-49b6-b3ce-8cfb7171e742",
   "metadata": {},
   "outputs": [],
   "source": [
    "# Create complete budget agent with all tools integrated\n",
    "budget_agent = Agent(\n",
    "    model=bedrock_model,\n",
    "    system_prompt=BUDGET_SYSTEM_PROMPT,\n",
    "    conversation_manager=conversation_manager,\n",
    "    tools=[calculate_budget, create_financial_chart, calculator],\n",
    "    callback_handler=None\n",
    ")"
   ]
  },
  {
   "cell_type": "code",
   "execution_count": null,
   "id": "f0cf49e3-1431-4340-80d0-44015c3b3775",
   "metadata": {},
   "outputs": [],
   "source": [
    "# Test tool-enabled agent with streaming response\n",
    "async for event in budget_agent.stream_async(\n",
    "    \"I make $5000/month and spend $800 on dining out. Is this too much?\"\n",
    "):\n",
    "    if \"data\" in event:\n",
    "        # Only stream text chunks to the client\n",
    "        print(event[\"data\"], end=\"\")\n",
    "        time.sleep(0.1) # show streaming properly"
   ]
  },
  {
   "cell_type": "markdown",
   "id": "d50ddda1-ca35-4c12-b654-59dba78ce63d",
   "metadata": {},
   "source": [
    "### Step 5: Add Structured Output for Financial Reports"
   ]
  },
  {
   "cell_type": "code",
   "execution_count": null,
   "id": "bd649bc8-19f1-43e1-bf87-5fc84d75da3d",
   "metadata": {},
   "outputs": [],
   "source": [
    "# Import Pydantic for structured output models\n",
    "from pydantic import BaseModel, Field\n",
    "from typing import List"
   ]
  },
  {
   "cell_type": "code",
   "execution_count": null,
   "id": "ff2a3e87-4879-406d-bae3-a9187fdaba3d",
   "metadata": {},
   "outputs": [],
   "source": [
    "# Define Pydantic models for structured financial reports\n",
    "class BudgetCategory(BaseModel):\n",
    "    name: str = Field(description=\"Budget category name\")\n",
    "    amount: float = Field(description=\"Dollar amount for this category\")\n",
    "    percentage: float = Field(description=\"Percentage of total income\")\n",
    "\n",
    "\n",
    "class FinancialReport(BaseModel):\n",
    "    monthly_income: float = Field(description=\"Total monthly income\")\n",
    "    budget_categories: List[BudgetCategory] = Field(\n",
    "        description=\"List of budget categories\"\n",
    "    )\n",
    "    recommendations: List[str] = Field(description=\"List of specific recommendations\")\n",
    "    financial_health_score: int = Field(\n",
    "        ge=1, le=10, description=\"Financial health score from 1-10\"\n",
    "    )"
   ]
  },
  {
   "cell_type": "code",
   "execution_count": null,
   "id": "f54c09a4-1861-480c-af15-496404cdac6c",
   "metadata": {},
   "outputs": [],
   "source": [
    "# Generate structured financial report using Pydantic model\n",
    "structured_response = budget_agent.structured_output(\n",
    "    output_model=FinancialReport,\n",
    "    prompt=\"Generate a comprehensive financial report for someone earning $6000/month with $800 dining expenses.\",\n",
    ")"
   ]
  },
  {
   "cell_type": "code",
   "execution_count": null,
   "id": "81e8b7bb-831d-42cd-b633-8cc67a704727",
   "metadata": {},
   "outputs": [],
   "source": [
    "# Display structured report output in formatted way\n",
    "print(f\"Income: ${structured_response.monthly_income:,.0f}\")\n",
    "for category in structured_response.budget_categories:\n",
    "    print(f\"• {category.name}: ${category.amount:,.0f} ({category.percentage:.1f}%)\")\n",
    "print(f\"\\nFinancial Health Score: {structured_response.financial_health_score}/10\")\n",
    "print(\"\\nRecommendations:\")\n",
    "for i, rec in enumerate(structured_response.recommendations, 1):\n",
    "    print(f\"{i}. {rec}\")"
   ]
  },
  {
   "cell_type": "code",
   "execution_count": null,
   "id": "29e588ec-8717-429d-a9f8-bc1d9f7eb94d",
   "metadata": {},
   "outputs": [],
   "source": [
    "%%writefile budget_agent.py\n",
    "# Export complete budget agent implementation to Python file\n",
    "from strands import Agent, tool\n",
    "from strands.models import BedrockModel\n",
    "from strands_tools import calculator\n",
    "from pydantic import BaseModel, Field\n",
    "from typing import List\n",
    "import matplotlib.pyplot as plt\n",
    "\n",
    "\n",
    "# Define structured output models for financial data\n",
    "class BudgetCategory(BaseModel):\n",
    "    name: str = Field(description=\"Budget category name\")\n",
    "    amount: float = Field(description=\"Dollar amount for this category\")\n",
    "    percentage: float = Field(description=\"Percentage of total income\")\n",
    "\n",
    "\n",
    "class FinancialReport(BaseModel):\n",
    "    monthly_income: float = Field(description=\"Total monthly income\")\n",
    "    budget_categories: List[BudgetCategory] = Field(\n",
    "        description=\"List of budget categories\"\n",
    "    )\n",
    "    recommendations: List[str] = Field(description=\"List of specific recommendations\")\n",
    "    financial_health_score: int = Field(\n",
    "        ge=1, le=10, description=\"Financial health score from 1-10\"\n",
    "    )\n",
    "\n",
    "\n",
    "# Enhanced system prompt for structured outputs\n",
    "BUDGET_SYSTEM_PROMPT = \"\"\"You are a helpful personal finance assistant. \n",
    "You provide general strategies for creating budgets, tips on financial discipline to achieve financial milestones, and analyze financial trends. You do not provide any investment advice. \n",
    "\n",
    "When generating financial reports, always provide:\n",
    "1. Clear budget breakdowns using the 50/30/20 rule or custom allocations\n",
    "2. Specific, actionable recommendations (2-3 steps)\n",
    "3. A financial health score based on spending patterns\n",
    "4. Practical budgeting and spending advice\n",
    "\n",
    "Use structured output when requested to provide comprehensive financial reports.\"\"\"\n",
    "\n",
    "# Continue with previous configurations\n",
    "bedrock_model = BedrockModel(\n",
    "    model_id=\"us.anthropic.claude-3-7-sonnet-20250219-v1:0\",\n",
    "    region_name=\"us-west-2\",\n",
    "    temperature=0.0,  # Deterministic responses for financial advice\n",
    ")\n",
    "\n",
    "\n",
    "@tool\n",
    "def calculate_budget(monthly_income: float) -> str:\n",
    "    \"\"\"Calculate 50/30/20 budget breakdown for the given monthly income.\"\"\"\n",
    "    needs = monthly_income * 0.50\n",
    "    wants = monthly_income * 0.30\n",
    "    savings = monthly_income * 0.20\n",
    "    return f\"💰 Budget for ${monthly_income:,.0f}/month:\\n• Needs: ${needs:,.0f} (50%)\\n• Wants: ${wants:,.0f} (30%)\\n• Savings: ${savings:,.0f} (20%)\"\n",
    "\n",
    "\n",
    "@tool\n",
    "def create_financial_chart(\n",
    "    data_dict: dict, chart_title: str = \"Financial Chart\"\n",
    ") -> str:\n",
    "    \"\"\"Create a pie chart visualization from financial data dictionary.\"\"\"\n",
    "    if not data_dict:\n",
    "        return \"❌ No data provided for chart\"\n",
    "\n",
    "    labels = list(data_dict.keys())\n",
    "    values = list(data_dict.values())\n",
    "    colors = [\"#FF6B6B\", \"#4ECDC4\", \"#45B7D1\", \"#96CEB4\", \"#FECA57\", \"#FF9FF3\"]\n",
    "\n",
    "    plt.figure(figsize=(8, 6))\n",
    "    plt.pie(\n",
    "        values,\n",
    "        labels=labels,\n",
    "        autopct=\"%1.1f%%\",\n",
    "        colors=colors[: len(values)],\n",
    "        startangle=90,\n",
    "    )\n",
    "    plt.title(f\"📊 {chart_title}\", fontsize=14, fontweight=\"bold\")\n",
    "    plt.axis(\"equal\")\n",
    "    plt.tight_layout()\n",
    "    plt.show()\n",
    "\n",
    "    return f\"✅ {chart_title} visualization created!\"\n",
    "\n",
    "\n",
    "# Create our complete financial agent\n",
    "budget_agent = Agent(\n",
    "    model=bedrock_model,\n",
    "    system_prompt=BUDGET_SYSTEM_PROMPT,\n",
    "    tools=[calculate_budget, create_financial_chart, calculator],\n",
    "    callback_handler=None,\n",
    ")\n",
    "\n",
    "if __name__ == \"__main__\":\n",
    "    # Test structured output using structured_output_async\n",
    "    print(\"\\nStructured financial report:\")\n",
    "    structured_response = budget_agent.structured_output(\n",
    "        output_model=FinancialReport,\n",
    "        prompt=\"Generate a comprehensive financial report for someone earning $6000/month with $800 dining expenses.\",\n",
    "    )\n",
    "    print(f\"Income: ${structured_response.monthly_income:,.0f}\")\n",
    "    for category in structured_response.budget_categories:\n",
    "        print(\n",
    "            f\"• {category.name}: ${category.amount:,.0f} ({category.percentage:.1f}%)\"\n",
    "        )\n",
    "    print(f\"\\nFinancial Health Score: {structured_response.financial_health_score}/10\")\n",
    "    print(\"\\nRecommendations:\")\n",
    "    for i, rec in enumerate(structured_response.recommendations, 1):\n",
    "        print(f\"{i}. {rec}\")"
   ]
  },
  {
   "cell_type": "code",
   "execution_count": null,
   "id": "b5430933-7307-4199-a28b-8dfcf229b5af",
   "metadata": {},
   "outputs": [],
   "source": [
    "# Test the exported budget agent implementation\n",
    "!python budget_agent.py "
   ]
  },
  {
   "cell_type": "code",
   "execution_count": null,
   "id": "14bf1a08-e188-4662-8f29-352c4ea0f95f",
   "metadata": {},
   "outputs": [],
   "source": []
  }
 ],
 "metadata": {
  "kernelspec": {
   "display_name": "Python 3 (ipykernel)",
   "language": "python",
   "name": "python3"
  },
  "language_info": {
   "codemirror_mode": {
    "name": "ipython",
    "version": 3
   },
   "file_extension": ".py",
   "mimetype": "text/x-python",
   "name": "python",
   "nbconvert_exporter": "python",
   "pygments_lexer": "ipython3",
   "version": "3.13.3"
  }
 },
 "nbformat": 4,
 "nbformat_minor": 5
}
