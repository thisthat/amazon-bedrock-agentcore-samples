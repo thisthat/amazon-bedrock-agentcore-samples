{
 "cells": [
  {
   "cell_type": "markdown",
   "id": "8fb16cc3",
   "metadata": {},
   "source": [
    "# Lab 3: Deploy agents on Amazon Bedrock AgentCore"
   ]
  },
  {
   "cell_type": "markdown",
   "id": "da43ece1",
   "metadata": {},
   "source": [
    "In this final lab, you'll transition from local development to production deployment using Amazon Bedrock AgentCore. You'll take the sophisticated multi-agent financial advisory system built in [Lab 1](./lab1-develop_a_personal_budget_assistant_strands_agent.ipynb) and [Lab 2](./lab2-build_multi_agent_workflows_with_strands.ipynb) and deploy it to AWS's enterprise-grade agent hosting platform - AgentCore Runtime."
   ]
  },
  {
   "cell_type": "markdown",
   "id": "22584a5a-dcdc-45eb-b299-c86d593f989f",
   "metadata": {},
   "source": [
    "![architecture](./images/architecture.png)\n"
   ]
  },
  {
   "cell_type": "markdown",
   "id": "f9d60907-22d1-438b-8da7-b56bababe4b9",
   "metadata": {},
   "source": [
    "## What You Will Learn\n",
    "\n",
    "You'll learn how to leverage AgentCore's purpose-built infrastructure for running agents at scale while maintaining security, performance, and reliability standards required for enterprise applications.\n",
    "\n",
    "## Amazon Bedrock AgentCore Runtime\n",
    "\n",
    "[Amazon Bedrock AgentCore Runtime](https://docs.aws.amazon.com/bedrock-agentcore/latest/devguide/agents-tools-runtime.html) provides a secure, serverless, and purpose-built hosting environment for deploying and running AI agents or tools, shortening the time to value from experiments to production-grade agents.\n",
    "\n",
    "[Learn more about how AgentCore Runtime works](https://docs.aws.amazon.com/bedrock-agentcore/latest/devguide/runtime-how-it-works.html)\n",
    "\n",
    "## Amazon Bedrock AgentCore Observability\n",
    "\n",
    "[AgentCore Observability](https://docs.aws.amazon.com/bedrock-agentcore/latest/devguide/observability.html) helps you trace, debug, and monitor agent performance in production environments. It offers detailed visualizations of each step in the agent workflow, enabling you to inspect an agent's execution path, audit intermediate outputs, and debug performance bottlenecks and failures."
   ]
  },
  {
   "cell_type": "code",
   "execution_count": null,
   "id": "8d842064-5778-4e6f-933d-19c1fe642293",
   "metadata": {},
   "outputs": [],
   "source": [
    "# Install dependencies for AgentCore deployment\n",
    "!pip install --force-reinstall -U -r requirements.txt --quiet"
   ]
  },
  {
   "cell_type": "code",
   "execution_count": null,
   "id": "7f0393b5-a8ec-490c-b107-b6caf84c11a2",
   "metadata": {},
   "outputs": [],
   "source": [
    "# Import AgentCore Runtime deployment tools and utilities\n",
    "import uuid\n",
    "from utils import setup_cognito_user_pool, reauthenticate_user\n",
    "from bedrock_agentcore_starter_toolkit import Runtime\n",
    "from boto3.session import Session\n",
    "from typing import Any, Optional\n",
    "import urllib.parse\n",
    "import requests\n",
    "import json"
   ]
  },
  {
   "cell_type": "code",
   "execution_count": null,
   "id": "9e7949ea-4180-4e1f-9b2d-8e1aa073ea82",
   "metadata": {},
   "outputs": [],
   "source": [
    "# Initialize AWS session and get current region\n",
    "boto_session = Session()\n",
    "region = boto_session.region_name"
   ]
  },
  {
   "cell_type": "markdown",
   "id": "44745699-8a49-463f-ad05-8838f75ab001",
   "metadata": {},
   "source": [
    "### Step 1: Preparing your agent for deployment on AgentCore Runtime\n",
    "\n",
    "Let's now deploy our agents to `AgentCore Runtime`. To do so we need to:\n",
    "\n",
    "- Import the Runtime App with `from bedrock_agentcore.runtime import BedrockAgentCoreApp`\n",
    "- Initialize the App in our code with `app = BedrockAgentCoreApp()`\n",
    "- Decorate the invocation function with the `@app.entrypoint` decorator\n",
    "- Let AgentCore Runtime control the running of the agent with `app.run()`"
   ]
  },
  {
   "cell_type": "code",
   "execution_count": null,
   "id": "26956ce5-d2c0-4312-9d85-d6063f2a12fa",
   "metadata": {},
   "outputs": [],
   "source": [
    "%%writefile main.py\n",
    "# Create AgentCore-compatible deployment file with streaming endpoint\n",
    "\n",
    "from strands import Agent, tool\n",
    "from strands.models import BedrockModel\n",
    "from strands.agent.conversation_manager import SummarizingConversationManager\n",
    "\n",
    "from budget_agent import FinancialReport, budget_agent\n",
    "from financial_analysis_agent import financial_analysis_agent\n",
    "from bedrock_agentcore import BedrockAgentCoreApp\n",
    "\n",
    "from utils import get_guardrail_id\n",
    "\n",
    "app = BedrockAgentCoreApp()\n",
    "agent = Agent()\n",
    "\n",
    "ORCHESTRATOR_PROMPT = \"\"\"You are a comprehensive financial advisor orchestrator that coordinates between specialized financial agents to provide complete financial guidance. \n",
    "\n",
    "Your specialized agents are:\n",
    "1. **budget_agent**: Handles budgeting, spending analysis, savings recommendations, and expense tracking\n",
    "2. **financial_analysis_agent_tool**: Handles investment analysis, stock research, portfolio creation, and performance comparisons\n",
    "\n",
    "Guidelines for using your agents:\n",
    "- Use **budget_agent** for questions about: budgets, spending habits, expense tracking, savings goals, debt management\n",
    "- Use **financial_analysis_agent_tool** for questions about: stocks, investments, portfolios, market analysis, investment recommendations\n",
    "- You can use both agents together for comprehensive financial planning\n",
    "- Always provide a cohesive summary that combines insights from multiple agents when applicable\n",
    "- Maintain a helpful, professional tone and include appropriate disclaimers about financial advice\n",
    "\n",
    "When a user asks a question:\n",
    "1. Determine which agent(s) are most appropriate\n",
    "2. Call the relevant agent(s) with focused queries\n",
    "3. Synthesize the responses into a coherent, comprehensive answer\n",
    "4. Provide actionable next steps when possible\"\"\"\n",
    "\n",
    "# Add conversation management to maintain context\n",
    "conversation_manager = SummarizingConversationManager(\n",
    "    summary_ratio=0.3,  # Summarize 30% of messages when context reduction is needed\n",
    "    preserve_recent_messages=5,  # Always keep 5 most recent messages\n",
    ")\n",
    "\n",
    "# Continue with previous configurations\n",
    "bedrock_model = BedrockModel(\n",
    "    model_id=\"us.anthropic.claude-3-7-sonnet-20250219-v1:0\",\n",
    "    region_name=\"us-west-2\",\n",
    "    temperature=0.0,  # Deterministic responses for financial advice\n",
    "    guardrail_id=get_guardrail_id(),\n",
    "    guardrail_version=\"DRAFT\",\n",
    "    guardrail_trace=\"enabled\",\n",
    ")\n",
    "\n",
    "\n",
    "@tool\n",
    "def budget_agent_tool(query: str) -> FinancialReport:\n",
    "    \"\"\"Generate structured financial reports with budget analysis and recommendations.\"\"\"\n",
    "    try:\n",
    "        structured_response = budget_agent.structured_output(\n",
    "            output_model=FinancialReport, prompt=query\n",
    "        )\n",
    "        return structured_response\n",
    "    except Exception as e:\n",
    "        # Return a default structured response on error\n",
    "        return FinancialReport(\n",
    "            monthly_income=0.0,\n",
    "            budget_categories=[],\n",
    "            recommendations=[f\"Error generating report: {str(e)}\"],\n",
    "            financial_health_score=1,\n",
    "        )\n",
    "\n",
    "\n",
    "# Wrap Financial Analysis Agent as a Tool\n",
    "@tool\n",
    "def financial_analysis_agent_tool(query: str) -> str:\n",
    "    \"\"\"Handle investment analysis queries including stock research, portfolio creation, and performance comparisons.\"\"\"\n",
    "    try:\n",
    "        response = financial_analysis_agent(query)\n",
    "        return str(response)\n",
    "    except Exception as e:\n",
    "        return f\"❌ Financial analysis error: {str(e)}\"\n",
    "\n",
    "\n",
    "orchestrator_agent = Agent(\n",
    "    model=bedrock_model,\n",
    "    system_prompt=ORCHESTRATOR_PROMPT,\n",
    "    tools=[budget_agent_tool, financial_analysis_agent_tool],\n",
    "    conversation_manager=conversation_manager,\n",
    ")\n",
    "\n",
    "\n",
    "@app.entrypoint\n",
    "async def invoke(payload):\n",
    "    \"\"\"Your AI agent function\"\"\"\n",
    "    user_message = payload[\"prompt\"]\n",
    "    async for event in orchestrator_agent.stream_async(user_message):\n",
    "        if \"data\" in event:\n",
    "            # Only stream text chunks to the client\n",
    "            yield event[\"data\"]\n",
    "\n",
    "\n",
    "if __name__ == \"__main__\":\n",
    "    app.run()"
   ]
  },
  {
   "cell_type": "markdown",
   "id": "952b39a0-b095-4ffc-95d2-62b4b07110ff",
   "metadata": {},
   "source": [
    "## What happens behind the scenes?\n",
    "\n",
    "When you use `BedrockAgentCoreApp`, it automatically:\n",
    "\n",
    "* Creates an HTTP server that listens on port 8080\n",
    "* Implements the required `/invocations` endpoint for processing the agent's requirements\n",
    "* Implements the `/ping` endpoint for health checks (very important for asynchronous agents)\n",
    "* Handles proper content types and response formats\n",
    "* Manages error handling according to AWS standards"
   ]
  },
  {
   "cell_type": "markdown",
   "id": "67d3157b-6e1c-43f1-b9bf-c67ab38e2839",
   "metadata": {},
   "source": [
    "### Step 2: Testing Locally\n",
    "\n",
    "To test your Agent server locally:\n",
    "\n",
    "1. **Terminal 1**: Start the Agent server\n",
    "   ```bash\n",
    "   python main.py\n",
    "   ```\n",
    "   \n",
    "2. **Terminal 2**: Use the following command:\n",
    "   ```bash\n",
    "   curl -X POST http://localhost:8080/invocations \\\n",
    "      -H \"Content-Type: application/json\" \\\n",
    "      -d '{\"prompt\": \"Hello!\"}'\n",
    "   ```\n",
    "\n",
    "You should see your agent response."
   ]
  },
  {
   "cell_type": "markdown",
   "id": "38c4e7b5-269b-4b04-a8c8-c0e68490ed58",
   "metadata": {},
   "source": [
    "### Step 3: Setting up Amazon Cognito for Authentication\n",
    "\n",
    "AgentCore Runtime requires authentication. We'll use Amazon Cognito to provide JWT tokens for accessing our deployed agent server."
   ]
  },
  {
   "cell_type": "code",
   "execution_count": null,
   "id": "fda7de57-8adf-46f9-8a49-4fb779c87ca8",
   "metadata": {},
   "outputs": [],
   "source": [
    "# Set up Amazon Cognito for AgentCore Runtime authentication\n",
    "print(\"Setting up Amazon Cognito user pool...\")\n",
    "\n",
    "cognito_config = setup_cognito_user_pool()\n",
    "\n",
    "print(\"Cognito setup completed ✓\")\n",
    "print(f\"User Pool ID: {cognito_config.get('user_pool_id', 'N/A')}\")\n",
    "print(f\"Client ID: {cognito_config.get('client_id', 'N/A')}\")"
   ]
  },
  {
   "cell_type": "code",
   "execution_count": null,
   "id": "7ecc3896-7925-4d0d-a224-543381fdbcc3",
   "metadata": {},
   "outputs": [],
   "source": [
    "# Configure JWT authorization for AgentCore Runtime\n",
    "auth_config = {\n",
    "    \"customJWTAuthorizer\": {\n",
    "        \"allowedClients\": [cognito_config[\"client_id\"]],\n",
    "        \"discoveryUrl\": cognito_config[\"discovery_url\"],\n",
    "    }\n",
    "}"
   ]
  },
  {
   "cell_type": "markdown",
   "id": "858ab3fb-78fc-46f2-83c1-4364bf338977",
   "metadata": {},
   "source": [
    "### Step 4: Deploying the agent to AgentCore Runtime\n",
    "\n",
    "The `CreateAgentRuntime` operation supports comprehensive configuration options, letting you specify container images, environment variables, and encryption settings. You can also configure protocol settings (HTTP, MCP) and authorization mechanisms to control how your clients communicate with the agent. \n",
    "\n",
    "**Note:** Operations best practice is to package code as a container and push to ECR using CI/CD pipelines and IaC.\n",
    "\n",
    "In this tutorial, we will use the Amazon Bedrock AgentCore Python SDK to easily package your artifacts and deploy them to AgentCore Runtime."
   ]
  },
  {
   "cell_type": "markdown",
   "id": "50545c1d-ed5f-49c4-93b1-e158edc18aff",
   "metadata": {},
   "source": [
    "### Step 4.1: Configure AgentCore Runtime deployment\n",
    "\n",
    "First, we will use our starter toolkit to configure the AgentCore Runtime deployment with an entrypoint, the execution role we just created, and a requirements file. We will also configure the starter kit to auto-create the Amazon ECR repository on launch.\n",
    "\n",
    "During the configure step, your Dockerfile will be generated based on your application code.\n",
    "\n",
    "![runtime](./images/runtime_overview.png)"
   ]
  },
  {
   "cell_type": "code",
   "execution_count": null,
   "id": "0b1a1098-661d-4697-913a-df2345e02488",
   "metadata": {},
   "outputs": [],
   "source": [
    "# Configure AgentCore Runtime deployment settings\n",
    "agentcore_runtime = Runtime()\n",
    "\n",
    "agent_name = \"personal_finance_agent\"\n",
    "\n",
    "print(\"Configuring AgentCore Runtime...\")\n",
    "response = agentcore_runtime.configure(\n",
    "    entrypoint=\"main.py\",\n",
    "    auto_create_execution_role=True,\n",
    "    auto_create_ecr=True,\n",
    "    requirements_file=\"requirements.txt\",\n",
    "    region=region,\n",
    "    agent_name=agent_name,\n",
    "    authorizer_configuration=auth_config,\n",
    ")\n",
    "\n",
    "print(\"Configuration completed ✓\")"
   ]
  },
  {
   "cell_type": "markdown",
   "id": "da7e946f-5179-452c-9011-7a4027669ff6",
   "metadata": {},
   "source": [
    "### Step 4.2: Launching agent to AgentCore Runtime\n",
    "\n",
    "Now that we have a Dockerfile, let's launch the agent to the AgentCore Runtime. This will create the Amazon ECR repository and the AgentCore Runtime."
   ]
  },
  {
   "cell_type": "code",
   "execution_count": null,
   "id": "3841057d-8cf8-41fe-83a4-ea8163069d72",
   "metadata": {},
   "outputs": [],
   "source": [
    "# Deploy agent to AgentCore Runtime (creates ECR repo and runtime)\n",
    "print(\"Launching Agent server to AgentCore Runtime...\")\n",
    "print(\"This may take several minutes...\")\n",
    "\n",
    "launch_result = agentcore_runtime.launch(\n",
    "    env_vars={\"OTEL_PYTHON_EXCLUDED_URLS\": \"/ping,/invocations\"}\n",
    ")\n",
    "\n",
    "print(\"Launch completed ✓\")\n",
    "print(f\"Agent ARN: {launch_result.agent_arn}\")\n",
    "print(f\"Agent ID: {launch_result.agent_id}\")"
   ]
  },
  {
   "cell_type": "markdown",
   "id": "27c854f5-83a3-446f-9de0-0beee417d3cc",
   "metadata": {},
   "source": [
    "### Step 5: Invoking AgentCore Runtime\n",
    "\n",
    "Finally, we can invoke our AgentCore Runtime with a payload"
   ]
  },
  {
   "cell_type": "code",
   "execution_count": null,
   "id": "915208a1-8793-4158-901b-e94261b70677",
   "metadata": {},
   "outputs": [],
   "source": [
    "# Authenticate user and get bearer token for API access\n",
    "bearer_token = reauthenticate_user(client_id=cognito_config[\"client_id\"])"
   ]
  },
  {
   "cell_type": "code",
   "execution_count": null,
   "id": "a846f791-8be1-400c-8c03-930079f04df4",
   "metadata": {},
   "outputs": [],
   "source": [
    "def invoke_endpoint(\n",
    "    agent_arn: str,\n",
    "    payload,\n",
    "    session_id: str,\n",
    "    bearer_token: Optional[str],\n",
    "    region: str = \"us-west-2\",\n",
    "    endpoint_name: str = \"DEFAULT\",\n",
    ") -> Any:\n",
    "    \"\"\"Invoke agent endpoint using HTTP request with bearer token.\"\"\"\n",
    "    escaped_arn = urllib.parse.quote(agent_arn, safe=\"\")\n",
    "    url = f\"https://bedrock-agentcore.{region}.amazonaws.com/runtimes/{escaped_arn}/invocations\"\n",
    "    headers = {\n",
    "        \"Authorization\": f\"Bearer {bearer_token}\",\n",
    "        \"Content-Type\": \"application/json\",\n",
    "        \"X-Amzn-Bedrock-AgentCore-Runtime-Session-Id\": session_id,\n",
    "    }\n",
    "\n",
    "    try:\n",
    "        body = json.loads(payload) if isinstance(payload, str) else payload\n",
    "    except json.JSONDecodeError:\n",
    "        body = {\"payload\": payload}\n",
    "\n",
    "    try:\n",
    "        response = requests.post(\n",
    "            url,\n",
    "            params={\"qualifier\": endpoint_name},\n",
    "            headers=headers,\n",
    "            json=body,\n",
    "            timeout=100,\n",
    "            stream=True,\n",
    "        )\n",
    "        last_data = False\n",
    "        for line in response.iter_lines(chunk_size=1):\n",
    "            if line:\n",
    "                line = line.decode(\"utf-8\")\n",
    "                if line.startswith(\"data: \"):\n",
    "                    last_data = True\n",
    "                    line = line[6:]\n",
    "                    line = line.replace('\"', \"\")\n",
    "                    yield line\n",
    "                elif line:\n",
    "                    line = line.replace('\"', \"\")\n",
    "                    if last_data:\n",
    "                        yield \"\\n\" + line\n",
    "                    last_data = False\n",
    "\n",
    "    except requests.exceptions.RequestException as e:\n",
    "        print(\"Failed to invoke agent endpoint: %s\", str(e))\n",
    "        raise"
   ]
  },
  {
   "cell_type": "code",
   "execution_count": null,
   "id": "7451fa77",
   "metadata": {},
   "outputs": [],
   "source": [
    "for chunk in invoke_endpoint(\n",
    "    agent_arn=launch_result.agent_arn,\n",
    "    payload={\n",
    "        \"prompt\": \"I make $6000/month and want to start investing $500/month. Help me create a budget and suggest an investment portfolio.\"\n",
    "    },\n",
    "    session_id=str(uuid.uuid4()),\n",
    "    bearer_token=bearer_token,\n",
    "):\n",
    "    print(chunk.replace(\"\\\\n\", \"\\n\"), end=\"\")\n"

   ]
  },
  {
   "cell_type": "markdown",
   "id": "1aa9f8f0-720e-4d41-b7a4-4fb65a1f2be0",
   "metadata": {},
   "source": [
    "## Cleanup (Optional)\n",
    "\n",
    "Let's now clean up the AgentCore Runtime resources created."
   ]
  },
  {
   "cell_type": "code",
   "execution_count": null,
   "id": "2fd1a0e3-f007-40e0-8b43-9928336d1459",
   "metadata": {},
   "outputs": [],
   "source": [
    "## Optional: Clean up guardrail (commented out)\n",
    "# delete_guardrail()"
   ]
  },
  {
   "cell_type": "code",
   "execution_count": null,
   "id": "4faba763-3390-49b3-a50b-fb7446f3275a",
   "metadata": {},
   "outputs": [],
   "source": [
    "## Optional: Clean up Cognito user pool (commented out)\n",
    "# delete_cognito_user_pool()"
   ]
  },
  {
   "cell_type": "code",
   "execution_count": null,
   "id": "994c16f5-c271-4184-8af3-c24135d8b131",
   "metadata": {},
   "outputs": [],
   "source": [
    "## Get deployment details for cleanup (commented out)\n",
    "# launch_result.ecr_uri, launch_result.agent_id, launch_result.ecr_uri.split(\"/\")[1]"
   ]
  },
  {
   "cell_type": "code",
   "execution_count": null,
   "id": "20d3489b-7a3c-463c-a99f-739a7c65dd27",
   "metadata": {},
   "outputs": [],
   "source": [
    "## Optional: Delete AgentCore Runtime and ECR repository (commented out)\n",
    "# agentcore_control_client = boto3.client(\"bedrock-agentcore-control\", region_name=region)\n",
    "# ecr_client = boto3.client(\"ecr\", region_name=region)\n",
    "\n",
    "# runtime_delete_response = agentcore_control_client.delete_agent_runtime(\n",
    "#     agentRuntimeId=launch_result.agent_id,\n",
    "# )\n",
    "\n",
    "# response = ecr_client.delete_repository(\n",
    "#     repositoryName=launch_result.ecr_uri.split(\"/\")[1], force=True\n",
    "# )"
   ]
  },
  {
   "cell_type": "code",
   "execution_count": null,
   "id": "4799790a-bf08-42e8-9a75-a622ec1dd5af",
   "metadata": {},
   "outputs": [],
   "source": []
  }
 ],
 "metadata": {
  "kernelspec": {
   "display_name": "Python 3",
   "language": "python",
   "name": "python3"
  },
  "language_info": {
   "codemirror_mode": {
    "name": "ipython",
    "version": 3
   },
   "file_extension": ".py",
   "mimetype": "text/x-python",
   "name": "python",
   "nbconvert_exporter": "python",
   "pygments_lexer": "ipython3",
   "version": "3.13.2"
  }
 },
 "nbformat": 4,
 "nbformat_minor": 5
}
